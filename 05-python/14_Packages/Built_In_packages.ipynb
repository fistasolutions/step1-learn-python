{
 "cells": [
  {
   "cell_type": "markdown",
   "metadata": {},
   "source": [
    "# Built-in Python Packages: Functions and Examples\n",
    "\n",
    "Python comes with a rich set of built-in packages that provide essential functionalities, enabling developers to perform a wide range of tasks without installing additional libraries. Below is a detailed explanation and examples of some of the most commonly used built-in packages.\n",
    "\n",
    "---\n",
    "\n",
    "## 1. `os` - Operating System Interface\n",
    "The `os` module provides functions to interact with the operating system, such as file and directory management.\n",
    "\n",
    "### Common Functions\n",
    "- `os.getcwd()`: Returns the current working directory.\n",
    "- `os.listdir(path)`: Lists the files and directories in a given path.\n",
    "- `os.remove(file)`: Removes a file.\n",
    "- `os.mkdir(path)`: Creates a new directory."
   ]
  },
  {
   "cell_type": "code",
   "execution_count": 2,
   "metadata": {},
   "outputs": [
    {
     "name": "stdout",
     "output_type": "stream",
     "text": [
      "Current Directory: /Users/fistasolutions/Documents/FISTA Solutions/2025/Study Material/Technical Learning /step1-learning-python/12-python/14_Packages\n",
      "Directory Created\n",
      "Files: ['Packages.ipynb', 'example_dir', 'Built_In_packages.ipynb']\n",
      "Directory Removed\n"
     ]
    }
   ],
   "source": [
    "### Example\n",
    "\n",
    "import os\n",
    "\n",
    "# Get current working directory\n",
    "print(\"Current Directory:\", os.getcwd())\n",
    "\n",
    "# Create a new directory\n",
    "os.mkdir(\"example_dir\")\n",
    "print(\"Directory Created\")\n",
    "\n",
    "# List files in current directory\n",
    "print(\"Files:\", os.listdir(\".\"))\n",
    "\n",
    "# Remove the created directory\n",
    "os.rmdir(\"example_dir\")\n",
    "print(\"Directory Removed\")\n",
    "\n",
    "\n",
    "\n",
    "## 2. `sys` - System-Specific Parameters and Functions\n",
    "#The `sys` module provides access to system-specific parameters and functions.\n",
    "\n",
    "### Common Functions\n",
    "#- `sys.argv`: List of command-line arguments passed to the script.\n",
    "#- `sys.exit()`: Exits the program.\n",
    "#- `sys.platform`: Returns the name of the platform.\n",
    "#- `sys.version`: Displays the Python version.\n"
   ]
  },
  {
   "cell_type": "code",
   "execution_count": null,
   "metadata": {},
   "outputs": [],
   "source": [
    "### Example\n",
    "\n",
    "import sys\n",
    "\n",
    "# Display Python version\n",
    "print(\"Python Version:\", sys.version)\n",
    "\n",
    "# Display platform\n",
    "print(\"Platform:\", sys.platform)\n",
    "\n",
    "# Command-line arguments\n",
    "print(\"Arguments:\", sys.argv)"
   ]
  },
  {
   "cell_type": "markdown",
   "metadata": {},
   "source": [
    "## 3. `math` - Mathematical Functions\n",
    "The `math` module provides mathematical functions, constants, and operations.\n",
    "\n",
    "### Common Functions\n",
    "- `math.sqrt(x)`: Returns the square root of `x`.\n",
    "- `math.pow(x, y)`: Returns `x` raised to the power of `y`.\n",
    "- `math.pi`: Value of π (pi).\n",
    "- `math.factorial(x)`: Returns the factorial of `x`.\n"
   ]
  },
  {
   "cell_type": "code",
   "execution_count": null,
   "metadata": {},
   "outputs": [],
   "source": [
    "\n",
    "### Example\n",
    "\n",
    "import math\n",
    "\n",
    "# Square root\n",
    "print(\"Square Root of 16:\", math.sqrt(16))\n",
    "\n",
    "# Power\n",
    "print(\"2^3:\", math.pow(2, 3))\n",
    "\n",
    "# Factorial\n",
    "print(\"Factorial of 5:\", math.factorial(5))\n",
    "\n",
    "# Value of pi\n",
    "print(\"Pi:\", math.pi)\n",
    "\n"
   ]
  },
  {
   "cell_type": "markdown",
   "metadata": {},
   "source": [
    "## 4. `datetime` - Date and Time Manipulation\n",
    "The `datetime` module provides classes for manipulating dates and times.\n",
    "\n",
    "### Common Classes and Methods\n",
    "- `datetime.datetime.now()`: Returns the current date and time.\n",
    "- `datetime.date(year, month, day)`: Creates a date object.\n",
    "- `datetime.timedelta(days, seconds, ...)`: Represents a duration.\n"
   ]
  },
  {
   "cell_type": "code",
   "execution_count": null,
   "metadata": {},
   "outputs": [],
   "source": [
    "## 4. `datetime` - Date and Time Manipulation\n",
    "The `datetime` module provides classes for manipulating dates and times.\n",
    "\n",
    "### Common Classes and Methods\n",
    "- `datetime.datetime.now()`: Returns the current date and time.\n",
    "- `datetime.date(year, month, day)`: Creates a date object.\n",
    "- `datetime.timedelta(days, seconds, ...)`: Represents a duration.\n",
    "\n",
    "### Example\n",
    "\n",
    "from datetime import datetime, timedelta\n",
    "\n",
    "# Current date and time\n",
    "now = datetime.now()\n",
    "print(\"Current Date and Time:\", now)\n",
    "\n",
    "# Specific date\n",
    "specific_date = datetime(2025, 1, 1)\n",
    "print(\"Specific Date:\", specific_date)\n",
    "\n",
    "# Adding days\n",
    "future_date = now + timedelta(days=10)\n",
    "print(\"Future Date:\", future_date)"
   ]
  },
  {
   "cell_type": "markdown",
   "metadata": {},
   "source": [
    "## 5. `random` - Random Number Generation\n",
    "#The `random` module generates random numbers and performs randomization.\n",
    "\n",
    "### Common Functions\n",
    "#- `random.randint(a, b)`: Returns a random integer between `a` and `b`.\n",
    "#- `random.choice(seq)`: Returns a random element from a sequence.\n",
    "#- `random.shuffle(seq)`: Shuffles a list in place.\n",
    "#- `random.uniform(a, b)`: Returns a random floating-point number between `a` and `b`."
   ]
  },
  {
   "cell_type": "code",
   "execution_count": null,
   "metadata": {},
   "outputs": [],
   "source": [
    "### Example\n",
    "import random\n",
    "\n",
    "# Random integer\n",
    "print(\"Random Integer:\", random.randint(1, 100))\n",
    "\n",
    "# Random choice\n",
    "choices = [\"apple\", \"banana\", \"cherry\"]\n",
    "print(\"Random Choice:\", random.choice(choices))\n",
    "\n",
    "# Shuffle list\n",
    "random.shuffle(choices)\n",
    "print(\"Shuffled List:\", choices)"
   ]
  },
  {
   "cell_type": "markdown",
   "metadata": {},
   "source": [
    "## 6. `re` - Regular Expressions\n",
    "#The `re` module provides support for regular expressions.\n",
    "\n",
    "### Common Functions\n",
    "#- `re.search(pattern, string)`: Searches for a pattern in a string.\n",
    "#- `re.match(pattern, string)`: Matches a pattern at the beginning of a string.\n",
    "#- `re.findall(pattern, string)`: Returns all occurrences of a pattern.\n",
    "#- `re.sub(pattern, repl, string)`: Replaces occurrences of a pattern.\n"
   ]
  },
  {
   "cell_type": "code",
   "execution_count": null,
   "metadata": {},
   "outputs": [],
   "source": [
    "### Example\n",
    "import re\n",
    "\n",
    "# Search\n",
    "pattern = r\"hello\"\n",
    "text = \"hello world\"\n",
    "match = re.search(pattern, text)\n",
    "if match:\n",
    "    print(\"Pattern Found:\", match.group())\n",
    "\n",
    "# Find all\n",
    "text = \"abc123xyz456\"\n",
    "numbers = re.findall(r\"\\d+\", text)\n",
    "print(\"Numbers:\", numbers)\n",
    "\n",
    "# Replace\n",
    "replaced = re.sub(r\"\\d+\", \"#\", text)\n",
    "print(\"Replaced Text:\", replaced)\n"
   ]
  },
  {
   "cell_type": "markdown",
   "metadata": {},
   "source": [
    "## 7. `json` - JSON Parsing and Encoding\n",
    "The `json` module handles JSON data.\n",
    "\n",
    "### Common Functions\n",
    "- `json.dumps(obj)`: Converts a Python object to JSON.\n",
    "- `json.loads(json_string)`: Parses a JSON string into a Python object."
   ]
  },
  {
   "cell_type": "code",
   "execution_count": null,
   "metadata": {},
   "outputs": [],
   "source": [
    "### Example\n",
    "import json\n",
    "\n",
    "# Python object to JSON\n",
    "data = {\"name\": \"Alice\", \"age\": 25}\n",
    "json_data = json.dumps(data)\n",
    "print(\"JSON Data:\", json_data)\n",
    "\n",
    "# JSON to Python object\n",
    "parsed_data = json.loads(json_data)\n",
    "print(\"Parsed Data:\", parsed_data)\n",
    "\n"
   ]
  },
  {
   "cell_type": "code",
   "execution_count": null,
   "metadata": {},
   "outputs": [],
   "source": []
  },
  {
   "cell_type": "markdown",
   "metadata": {},
   "source": [
    "## Summary\n",
    "Built-in packages provide a foundation for various functionalities, simplifying programming tasks. These packages cover a wide range of use cases, from file handling and system interaction to mathematical computations and JSON manipulation. Let me know if you'd like details on additional built-in packages!"
   ]
  }
 ],
 "metadata": {
  "kernelspec": {
   "display_name": "Python 3",
   "language": "python",
   "name": "python3"
  },
  "language_info": {
   "codemirror_mode": {
    "name": "ipython",
    "version": 3
   },
   "file_extension": ".py",
   "mimetype": "text/x-python",
   "name": "python",
   "nbconvert_exporter": "python",
   "pygments_lexer": "ipython3",
   "version": "3.13.1"
  }
 },
 "nbformat": 4,
 "nbformat_minor": 2
}
