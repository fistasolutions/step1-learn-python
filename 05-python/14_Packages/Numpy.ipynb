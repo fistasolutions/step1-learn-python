{
 "cells": [
  {
   "cell_type": "markdown",
   "metadata": {},
   "source": [
    "# NumPy: Overview and Examples\n",
    "\n",
    "NumPy is a Python library for numerical computing. It provides high-performance multidimensional arrays and functions for mathematical operations.\n",
    "\n",
    "## Key Features\n",
    "- Fast numerical operations on arrays.\n",
    "- Efficient storage and manipulation of large datasets.\n",
    "- Built-in support for mathematical functions like linear algebra, Fourier transforms, and random number generation.\n",
    "\n",
    "## Installation\n",
    "```bash\n",
    "pip install numpy\n",
    "\n",
    "\n",
    "---\n",
    "\n",
    "#### 2. **Creating Arrays**\n",
    "\n",
    "**Markdown:**\n",
    "```markdown\n",
    "## Creating Arrays\n",
    "\n",
    "### 1D, 2D, and 3D Arrays\n",
    "NumPy supports arrays of any dimension.\n",
    "\n",
    "### Specialized Arrays\n",
    "- Arrays of zeros, ones, or random values.\n",
    "- Arrays with evenly spaced values or ranges.\n",
    "\n"
   ]
  },
  {
   "cell_type": "code",
   "execution_count": null,
   "metadata": {
    "vscode": {
     "languageId": "plaintext"
    }
   },
   "outputs": [],
   "source": [
    "import numpy as np\n",
    "\n",
    "# 1D array\n",
    "arr1d = np.array([1, 2, 3])\n",
    "print(\"1D Array:\", arr1d)\n",
    "\n",
    "# 2D array\n",
    "arr2d = np.array([[1, 2, 3], [4, 5, 6]])\n",
    "print(\"2D Array:\\n\", arr2d)\n",
    "\n",
    "# 3D array\n",
    "arr3d = np.array([[[1, 2], [3, 4]], [[5, 6], [7, 8]]])\n",
    "print(\"3D Array:\\n\", arr3d)\n",
    "\n",
    "# Arrays with special values\n",
    "zeros = np.zeros((2, 3))\n",
    "ones = np.ones((2, 3))\n",
    "rand = np.random.rand(2, 3)\n",
    "range_arr = np.arange(0, 10, 2)\n",
    "linspace_arr = np.linspace(0, 1, 5)\n",
    "\n",
    "print(\"\\nZeros:\\n\", zeros)\n",
    "print(\"\\nOnes:\\n\", ones)\n",
    "print(\"\\nRandom:\\n\", rand)\n",
    "print(\"\\nRange:\", range_arr)\n",
    "print(\"\\nLinspace:\", linspace_arr)\n"
   ]
  },
  {
   "cell_type": "markdown",
   "metadata": {},
   "source": [
    "## Array Operations\n",
    "\n",
    "### Element-wise Operations\n",
    "Perform addition, subtraction, multiplication, and division element-wise.\n",
    "\n",
    "### Broadcasting\n",
    "Perform operations between arrays of different shapes.\n",
    "\n",
    "### Mathematical Functions\n",
    "Use NumPy's built-in mathematical functions.\n"
   ]
  },
  {
   "cell_type": "code",
   "execution_count": null,
   "metadata": {
    "vscode": {
     "languageId": "plaintext"
    }
   },
   "outputs": [],
   "source": [
    "# Element-wise operations\n",
    "a = np.array([1, 2, 3])\n",
    "b = np.array([4, 5, 6])\n",
    "print(\"Addition:\", a + b)\n",
    "print(\"Multiplication:\", a * b)\n",
    "\n",
    "# Broadcasting\n",
    "c = np.array([[1], [2], [3]])\n",
    "d = np.array([4, 5, 6])\n",
    "print(\"\\nBroadcasting Addition:\\n\", c + d)\n",
    "\n",
    "# Mathematical functions\n",
    "arr = np.array([1, 2, 3, 4])\n",
    "print(\"\\nSquare Root:\", np.sqrt(arr))\n",
    "print(\"Exponential:\", np.exp(arr))\n",
    "print(\"Sine:\", np.sin(arr))\n"
   ]
  },
  {
   "cell_type": "markdown",
   "metadata": {},
   "source": [
    "## Indexing and Slicing\n",
    "\n",
    "### Accessing Elements\n",
    "Access elements using indices.\n",
    "\n",
    "### Slicing\n",
    "Extract subarrays using slicing.\n"
   ]
  },
  {
   "cell_type": "code",
   "execution_count": null,
   "metadata": {
    "vscode": {
     "languageId": "plaintext"
    }
   },
   "outputs": [],
   "source": [
    "# Accessing elements\n",
    "arr = np.array([[1, 2, 3], [4, 5, 6]])\n",
    "print(\"Element at (0,1):\", arr[0, 1])\n",
    "\n",
    "# Slicing\n",
    "print(\"\\nRow 0:\", arr[0])\n",
    "print(\"Column 1:\", arr[:, 1])\n",
    "print(\"Subarray:\\n\", arr[0:2, 1:3])\n"
   ]
  },
  {
   "cell_type": "markdown",
   "metadata": {},
   "source": [
    "## Array Manipulation\n",
    "\n",
    "### Reshaping\n",
    "Change the shape of arrays.\n",
    "\n",
    "### Stacking\n",
    "Combine arrays vertically or horizontally.\n",
    "\n",
    "### Splitting\n",
    "Split arrays into multiple smaller arrays.\n"
   ]
  },
  {
   "cell_type": "code",
   "execution_count": null,
   "metadata": {
    "vscode": {
     "languageId": "plaintext"
    }
   },
   "outputs": [],
   "source": [
    "# Reshaping\n",
    "arr = np.arange(1, 7)\n",
    "reshaped = arr.reshape((2, 3))\n",
    "print(\"Reshaped Array:\\n\", reshaped)\n",
    "\n",
    "# Stacking\n",
    "a = np.array([1, 2])\n",
    "b = np.array([3, 4])\n",
    "vstacked = np.vstack((a, b))\n",
    "hstacked = np.hstack((a, b))\n",
    "print(\"\\nVertical Stack:\\n\", vstacked)\n",
    "print(\"\\nHorizontal Stack:\", hstacked)\n",
    "\n",
    "# Splitting\n",
    "split_arr = np.split(reshaped, 2, axis=0)\n",
    "print(\"\\nSplit Array:\", split_arr)\n"
   ]
  },
  {
   "cell_type": "markdown",
   "metadata": {},
   "source": [
    "## Statistical and Aggregate Functions\n",
    "\n",
    "Use NumPy's built-in functions for mean, median, standard deviation, and more.\n"
   ]
  },
  {
   "cell_type": "code",
   "execution_count": null,
   "metadata": {
    "vscode": {
     "languageId": "plaintext"
    }
   },
   "outputs": [],
   "source": [
    "arr = np.array([1, 2, 3, 4, 5])\n",
    "\n",
    "# Statistical operations\n",
    "print(\"Mean:\", np.mean(arr))\n",
    "print(\"Median:\", np.median(arr))\n",
    "print(\"Standard Deviation:\", np.std(arr))\n",
    "print(\"Sum:\", np.sum(arr))\n",
    "print(\"Min:\", np.min(arr))\n",
    "print(\"Max:\", np.max(arr))\n"
   ]
  },
  {
   "cell_type": "markdown",
   "metadata": {},
   "source": [
    "## Linear Algebra\n",
    "\n",
    "Perform matrix multiplication, inverses, eigenvalues, and more.\n"
   ]
  },
  {
   "cell_type": "code",
   "execution_count": null,
   "metadata": {
    "vscode": {
     "languageId": "plaintext"
    }
   },
   "outputs": [],
   "source": [
    "# Matrix multiplication\n",
    "A = np.array([[1, 2], [3, 4]])\n",
    "B = np.array([[5, 6], [7, 8]])\n",
    "C = np.dot(A, B)\n",
    "print(\"Matrix Multiplication:\\n\", C)\n",
    "\n",
    "# Inverse and Transpose\n",
    "inv = np.linalg.inv(A)\n",
    "transpose = A.T\n",
    "print(\"\\nInverse:\\n\", inv)\n",
    "print(\"\\nTranspose:\\n\", transpose)\n"
   ]
  },
  {
   "cell_type": "markdown",
   "metadata": {},
   "source": [
    "## Random Numbers\n",
    "\n",
    "Generate random numbers from various distributions.\n"
   ]
  },
  {
   "cell_type": "code",
   "execution_count": null,
   "metadata": {
    "vscode": {
     "languageId": "plaintext"
    }
   },
   "outputs": [],
   "source": [
    "# Random numbers\n",
    "rand_arr = np.random.rand(2, 3)  # Uniform distribution\n",
    "rand_ints = np.random.randint(0, 10, size=(2, 3))  # Random integers\n",
    "rand_norm = np.random.randn(2, 3)  # Normal distribution\n",
    "\n",
    "print(\"Uniform Random Numbers:\\n\", rand_arr)\n",
    "print(\"\\nRandom Integers:\\n\", rand_ints)\n",
    "print(\"\\nNormal Distribution:\\n\", rand_norm)\n"
   ]
  },
  {
   "cell_type": "markdown",
   "metadata": {},
   "source": [
    "## Saving and Loading Data\n",
    "\n",
    "Save and load arrays to/from files.\n"
   ]
  },
  {
   "cell_type": "code",
   "execution_count": null,
   "metadata": {
    "vscode": {
     "languageId": "plaintext"
    }
   },
   "outputs": [],
   "source": [
    "# Save and Load\n",
    "np.save('array.npy', arr)\n",
    "loaded_arr = np.load('array.npy')\n",
    "print(\"Loaded Array:\", loaded_arr)\n",
    "\n",
    "# Save to Text File\n",
    "np.savetxt('array.txt', arr, fmt='%d')\n",
    "loaded_txt = np.loadtxt('array.txt', dtype=int)\n",
    "print(\"\\nLoaded from Text File:\", loaded_txt)\n"
   ]
  }
 ],
 "metadata": {
  "language_info": {
   "name": "python"
  }
 },
 "nbformat": 4,
 "nbformat_minor": 2
}
