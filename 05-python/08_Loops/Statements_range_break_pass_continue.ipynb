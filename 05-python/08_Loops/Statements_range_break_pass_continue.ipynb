{
 "cells": [
  {
   "cell_type": "markdown",
   "metadata": {},
   "source": [
    "# The `range()` Function in Python\n",
    "\n",
    "## Introduction\n",
    "The `range()` function is a built-in Python function that generates a sequence of numbers. It is widely used in loops, especially `for` loops, to control iteration.\n",
    "\n",
    "---\n",
    "\n",
    "## Syntax\n",
    "```python\n",
    "range(start, stop, step)\n",
    "```\n",
    "- **`start`** (optional): The starting number of the sequence (inclusive). Default is `0`.\n",
    "- **`stop`** (required): The ending number of the sequence (exclusive).\n",
    "- **`step`** (optional): The difference between each number in the sequence. Default is `1`.\n",
    "\n",
    "---\n",
    "\n",
    "## Examples\n",
    "\n",
    "### 1. Generate Numbers from 0 to 4\n",
    "```python\n",
    "for i in range(5):\n",
    "    print(i)\n",
    "```\n",
    "**Output:**\n",
    "```\n",
    "0\n",
    "1\n",
    "2\n",
    "3\n",
    "4\n",
    "```\n",
    "\n",
    "### 2. Generate Numbers from 1 to 5\n",
    "```python\n",
    "for i in range(1, 6):\n",
    "    print(i)\n",
    "```\n",
    "**Output:**\n",
    "```\n",
    "1\n",
    "2\n",
    "3\n",
    "4\n",
    "5\n",
    "```\n",
    "\n",
    "### 3. Generate Even Numbers from 2 to 10\n",
    "```python\n",
    "for i in range(2, 11, 2):\n",
    "    print(i)\n",
    "```\n",
    "**Output:**\n",
    "```\n",
    "2\n",
    "4\n",
    "6\n",
    "8\n",
    "10\n",
    "```\n",
    "\n",
    "### 4. Generate Numbers in Reverse from 10 to 1\n",
    "```python\n",
    "for i in range(10, 0, -1):\n",
    "    print(i)\n",
    "```\n",
    "**Output:**\n",
    "```\n",
    "10\n",
    "9\n",
    "8\n",
    "7\n",
    "6\n",
    "5\n",
    "4\n",
    "3\n",
    "2\n",
    "1\n",
    "```\n",
    "\n",
    "---\n",
    "\n",
    "## Using `range()` with `len()`\n",
    "When working with lists, `range()` is often combined with the `len()` function to iterate over indices.\n",
    "\n",
    "### Example\n",
    "```python\n",
    "fruits = [\"apple\", \"banana\", \"cherry\"]\n",
    "for i in range(len(fruits)):\n",
    "    print(f\"Index {i}: {fruits[i]}\")\n",
    "```\n",
    "**Output:**\n",
    "```\n",
    "Index 0: apple\n",
    "Index 1: banana\n",
    "Index 2: cherry\n",
    "```\n",
    "\n",
    "---\n",
    "\n",
    "## Control Statements in Loops\n",
    "Python provides special statements to control the flow of loops: `continue`, `break`, and `pass`.\n",
    "\n",
    "### `continue` Statement\n",
    "The `continue` statement skips the current iteration and moves to the next iteration of the loop.\n",
    "\n",
    "#### Example:\n",
    "```python\n",
    "for i in range(5):\n",
    "    if i == 2:\n",
    "        continue\n",
    "    print(i)\n",
    "```\n",
    "**Output:**\n",
    "```\n",
    "0\n",
    "1\n",
    "3\n",
    "4\n",
    "```\n",
    "\n",
    "### `break` Statement\n",
    "The `break` statement terminates the loop entirely.\n",
    "\n",
    "#### Example:\n",
    "```python\n",
    "for i in range(5):\n",
    "    if i == 3:\n",
    "        break\n",
    "    print(i)\n",
    "```\n",
    "**Output:**\n",
    "```\n",
    "0\n",
    "1\n",
    "2\n",
    "```\n",
    "\n",
    "### `pass` Statement\n",
    "The `pass` statement is a placeholder that does nothing and allows code to run without errors.\n",
    "\n",
    "#### Example:\n",
    "```python\n",
    "for i in range(5):\n",
    "    if i == 2:\n",
    "        pass\n",
    "    print(i)\n",
    "```\n",
    "**Output:**\n",
    "```\n",
    "0\n",
    "1\n",
    "2\n",
    "3\n",
    "4\n",
    "```\n",
    "\n",
    "---\n",
    "\n",
    "# Python Code Examples"
   ]
  },
  {
   "cell_type": "code",
   "execution_count": 1,
   "metadata": {},
   "outputs": [
    {
     "name": "stdout",
     "output_type": "stream",
     "text": [
      "0\n",
      "1\n",
      "2\n",
      "3\n",
      "4\n"
     ]
    }
   ],
   "source": [
    "# Example 1: Generate numbers from 0 to 4\n",
    "for i in range(5):\n",
    "    print(i)\n",
    "\n"
   ]
  },
  {
   "cell_type": "code",
   "execution_count": 2,
   "metadata": {},
   "outputs": [
    {
     "name": "stdout",
     "output_type": "stream",
     "text": [
      "1\n",
      "2\n",
      "3\n",
      "4\n",
      "5\n"
     ]
    }
   ],
   "source": [
    "# Example 2: Generate numbers from 1 to 5\n",
    "for i in range(1, 6):\n",
    "    print(i)"
   ]
  },
  {
   "cell_type": "code",
   "execution_count": 3,
   "metadata": {},
   "outputs": [
    {
     "name": "stdout",
     "output_type": "stream",
     "text": [
      "2\n",
      "4\n",
      "6\n",
      "8\n",
      "10\n"
     ]
    }
   ],
   "source": [
    "# Example 3: Generate even numbers from 2 to 10\n",
    "for i in range(2, 11, 2):\n",
    "    print(i)\n",
    "\n"
   ]
  },
  {
   "cell_type": "code",
   "execution_count": 4,
   "metadata": {},
   "outputs": [
    {
     "name": "stdout",
     "output_type": "stream",
     "text": [
      "10\n",
      "9\n",
      "8\n",
      "7\n",
      "6\n",
      "5\n",
      "4\n",
      "3\n",
      "2\n",
      "1\n"
     ]
    }
   ],
   "source": [
    "# Example 4: Generate numbers in reverse from 10 to 1\n",
    "for i in range(10, 0, -1):\n",
    "    print(i)"
   ]
  },
  {
   "cell_type": "code",
   "execution_count": 5,
   "metadata": {},
   "outputs": [
    {
     "name": "stdout",
     "output_type": "stream",
     "text": [
      "Index 0: apple\n",
      "Index 1: banana\n",
      "Index 2: cherry\n"
     ]
    }
   ],
   "source": [
    "# Example 5: Using `range()` with `len()`\n",
    "fruits = [\"apple\", \"banana\", \"cherry\"]\n",
    "for i in range(len(fruits)):\n",
    "    print(f\"Index {i}: {fruits[i]}\")\n"
   ]
  },
  {
   "cell_type": "code",
   "execution_count": 1,
   "metadata": {},
   "outputs": [
    {
     "name": "stdout",
     "output_type": "stream",
     "text": [
      "0\n",
      "1\n",
      "3\n",
      "4\n"
     ]
    }
   ],
   "source": [
    "# Example 6: Using `continue` statement\n",
    "for i in range(5):\n",
    "    if i == 2:\n",
    "        continue\n",
    "    print(i)"
   ]
  },
  {
   "cell_type": "code",
   "execution_count": 2,
   "metadata": {},
   "outputs": [
    {
     "name": "stdout",
     "output_type": "stream",
     "text": [
      "0\n",
      "1\n",
      "2\n"
     ]
    }
   ],
   "source": [
    "# Example 7: Using `break` statement\n",
    "for i in range(5):\n",
    "    if i == 3:\n",
    "        break\n",
    "    print(i)"
   ]
  },
  {
   "cell_type": "code",
   "execution_count": 3,
   "metadata": {},
   "outputs": [
    {
     "name": "stdout",
     "output_type": "stream",
     "text": [
      "0\n",
      "1\n",
      "2\n",
      "3\n",
      "4\n"
     ]
    }
   ],
   "source": [
    "# Example 8: Using `pass` statement\n",
    "for i in range(5):\n",
    "    if i == 2:\n",
    "        pass\n",
    "    print(i)"
   ]
  }
 ],
 "metadata": {
  "kernelspec": {
   "display_name": "Python 3",
   "language": "python",
   "name": "python3"
  },
  "language_info": {
   "codemirror_mode": {
    "name": "ipython",
    "version": 3
   },
   "file_extension": ".py",
   "mimetype": "text/x-python",
   "name": "python",
   "nbconvert_exporter": "python",
   "pygments_lexer": "ipython3",
   "version": "3.13.1"
  }
 },
 "nbformat": 4,
 "nbformat_minor": 2
}
