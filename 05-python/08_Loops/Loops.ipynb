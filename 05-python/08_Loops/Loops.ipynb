{
 "cells": [
  {
   "cell_type": "markdown",
   "metadata": {},
   "source": [
    "# Loops in Python\n",
    "\n",
    "## Introduction\n",
    "Loops are used to execute a block of code repeatedly as long as a condition is met. Python supports two main types of loops:\n",
    "\n",
    "1. **For Loop**: Iterates over a sequence (e.g., list, tuple, string).\n",
    "2. **While Loop**: Executes as long as a condition is `True`.\n",
    "\n",
    "---\n",
    "\n",
    "## For Loop\n",
    "The `for` loop is used to iterate over a sequence such as a list, tuple, string, or range.\n",
    "\n",
    "**Syntax:**\n",
    "```python\n",
    "for variable in sequence:\n",
    "    # Code block to execute\n",
    "```\n",
    "\n",
    "**Example:**\n",
    "Iterating over a list:\n",
    "\n",
    "```python\n",
    "for i in range(10):\n",
    "    print(i)\n",
    "```\n",
    "\n",
    "---\n",
    "\n",
    "## While Loop\n",
    "The `while` loop continues as long as a specified condition is `True`.\n",
    "\n",
    "**Syntax:**\n",
    "```python\n",
    "while condition:\n",
    "    # Code block to execute\n",
    "```\n",
    "\n",
    "**Example:**\n",
    "Print numbers from 1 to 5:\n",
    "\n",
    "```python\n",
    "count = 1\n",
    "while count <= 5:\n",
    "    print(count)\n",
    "    count += 1\n",
    "```\n",
    "\n",
    "---\n"
   ]
  },
  {
   "cell_type": "code",
   "execution_count": 1,
   "metadata": {},
   "outputs": [
    {
     "name": "stdout",
     "output_type": "stream",
     "text": [
      "0\n",
      "1\n",
      "2\n",
      "3\n",
      "4\n",
      "5\n",
      "6\n",
      "7\n",
      "8\n",
      "9\n"
     ]
    }
   ],
   "source": [
    "# Python Code Examples\n",
    "\n",
    "# Simple For Loop Example\n",
    "for i in range(10):\n",
    "    print(i)\n"
   ]
  },
  {
   "cell_type": "code",
   "execution_count": 2,
   "metadata": {},
   "outputs": [
    {
     "name": "stdout",
     "output_type": "stream",
     "text": [
      "1\n",
      "2\n",
      "3\n",
      "4\n",
      "5\n"
     ]
    }
   ],
   "source": [
    "# Simple While Loop Example\n",
    "count = 1\n",
    "while count <= 5:\n",
    "    print(count)\n",
    "    count += 1"
   ]
  }
 ],
 "metadata": {
  "kernelspec": {
   "display_name": "Python 3",
   "language": "python",
   "name": "python3"
  },
  "language_info": {
   "codemirror_mode": {
    "name": "ipython",
    "version": 3
   },
   "file_extension": ".py",
   "mimetype": "text/x-python",
   "name": "python",
   "nbconvert_exporter": "python",
   "pygments_lexer": "ipython3",
   "version": "3.13.1"
  }
 },
 "nbformat": 4,
 "nbformat_minor": 2
}
