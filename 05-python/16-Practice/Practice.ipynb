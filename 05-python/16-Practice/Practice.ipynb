{
 "cells": [
  {
   "cell_type": "code",
   "execution_count": 1,
   "metadata": {},
   "outputs": [
    {
     "name": "stdout",
     "output_type": "stream",
     "text": [
      "BISMILLAH\n"
     ]
    }
   ],
   "source": [
    "print(\"BISMILLAH\")\n"
   ]
  },
  {
   "cell_type": "code",
   "execution_count": 2,
   "metadata": {},
   "outputs": [
    {
     "data": {
      "text/plain": [
       "' these are \\nmutliline comments.'"
      ]
     },
     "execution_count": 2,
     "metadata": {},
     "output_type": "execute_result"
    }
   ],
   "source": [
    "#these are comments"
   ]
  },
  {
   "cell_type": "code",
   "execution_count": 9,
   "metadata": {},
   "outputs": [
    {
     "name": "stdout",
     "output_type": "stream",
     "text": [
      "4\n",
      "9.6\n",
      "Muhammad Usman\n",
      "True\n",
      "<class 'bool'>\n",
      "2j\n",
      "<class 'complex'>\n"
     ]
    }
   ],
   "source": [
    "varint: int=4\n",
    "varfloat: float=9.6\n",
    "varstring:str=\"Muhammad Usman\"\n",
    "varbool:bool=True\n",
    "print(varint)\n",
    "print(varfloat)\n",
    "print(varstring)\n",
    "print(varbool)\n",
    "print(type(varbool))\n",
    "varcomplex=2j\n",
    "print(varcomplex)\n",
    "print(type(varcomplex))"
   ]
  },
  {
   "cell_type": "code",
   "execution_count": 10,
   "metadata": {},
   "outputs": [
    {
     "name": "stdout",
     "output_type": "stream",
     "text": [
      "here is var: 4\n"
     ]
    }
   ],
   "source": [
    "print(f\"here is var: {varint}\")"
   ]
  },
  {
   "cell_type": "code",
   "execution_count": 17,
   "metadata": {},
   "outputs": [
    {
     "name": "stdout",
     "output_type": "stream",
     "text": [
      "9.6 is greater than 4\n"
     ]
    }
   ],
   "source": [
    "if varint>varfloat:\n",
    "    print(f\"{varint} is greater than {varfloat}\")\n",
    "else:\n",
    "    print(f\"{varfloat} is greater than {varint}\")"
   ]
  },
  {
   "cell_type": "code",
   "execution_count": 21,
   "metadata": {
    "notebookRunGroups": {
     "groupValue": "2"
    }
   },
   "outputs": [
    {
     "name": "stdout",
     "output_type": "stream",
     "text": [
      "1\n",
      "3\n",
      "5\n",
      "7\n",
      "9\n",
      "10\n",
      "8\n",
      "6\n",
      "4\n",
      "2\n",
      "2\n",
      "3\n",
      "4\n",
      "5\n",
      "6\n",
      "7\n",
      "8\n",
      "9\n"
     ]
    }
   ],
   "source": [
    "for i in range(1,10,2):\n",
    "    print(i)\n",
    "for i in range(10,0,-2):\n",
    "    print(i)\n",
    "    \n",
    "while i<10:\n",
    "    print(i)\n",
    "    i=i+1"
   ]
  },
  {
   "cell_type": "code",
   "execution_count": 22,
   "metadata": {},
   "outputs": [
    {
     "name": "stdout",
     "output_type": "stream",
     "text": [
      "0\n",
      "1\n",
      "2\n",
      "3\n",
      "4\n"
     ]
    }
   ],
   "source": [
    "for i in range(10):\n",
    "    if i==5:\n",
    "        break\n",
    "    print(i)"
   ]
  },
  {
   "cell_type": "code",
   "execution_count": 23,
   "metadata": {},
   "outputs": [
    {
     "name": "stdout",
     "output_type": "stream",
     "text": [
      "0\n",
      "1\n",
      "2\n",
      "3\n",
      "4\n",
      "6\n",
      "7\n",
      "8\n",
      "9\n"
     ]
    }
   ],
   "source": [
    "for i in range(10):\n",
    "    if i==5:\n",
    "        continue\n",
    "    print(i)"
   ]
  },
  {
   "cell_type": "code",
   "execution_count": 1,
   "metadata": {},
   "outputs": [
    {
     "name": "stdout",
     "output_type": "stream",
     "text": [
      "0\n",
      "1\n",
      "2\n",
      "3\n",
      "4\n",
      "5\n",
      "6\n",
      "7\n",
      "8\n",
      "9\n"
     ]
    }
   ],
   "source": [
    "for i in range(10):\n",
    "    if i==5:\n",
    "        pass\n",
    "    print(i)"
   ]
  },
  {
   "cell_type": "code",
   "execution_count": 2,
   "metadata": {},
   "outputs": [
    {
     "name": "stdout",
     "output_type": "stream",
     "text": [
      "600\n"
     ]
    }
   ],
   "source": [
    "def funname(var1, var2):\n",
    "    return var1+var2\n",
    "\n",
    "print(funname(33,567))"
   ]
  },
  {
   "cell_type": "code",
   "execution_count": 3,
   "metadata": {},
   "outputs": [
    {
     "name": "stdout",
     "output_type": "stream",
     "text": [
      "BISMILLAH\n"
     ]
    }
   ],
   "source": [
    "def fun2():\n",
    "    print(\"BISMILLAH\")\n",
    "    \n",
    "fun2()"
   ]
  },
  {
   "cell_type": "code",
   "execution_count": 7,
   "metadata": {},
   "outputs": [
    {
     "name": "stdout",
     "output_type": "stream",
     "text": [
      "BISMILLAH\n",
      "here is value of 3 and 4\n"
     ]
    },
    {
     "data": {
      "text/plain": [
       "7"
      ]
     },
     "execution_count": 7,
     "metadata": {},
     "output_type": "execute_result"
    }
   ],
   "source": [
    "def fun3(a,b):\n",
    "    fun2()\n",
    "    print(f\"here is value of {a} and {b}\")\n",
    "    #return a+b\n",
    "fun3(3,4)"
   ]
  },
  {
   "cell_type": "code",
   "execution_count": 12,
   "metadata": {},
   "outputs": [
    {
     "name": "stdout",
     "output_type": "stream",
     "text": [
      "9 and 3\n",
      "5 and 9\n"
     ]
    }
   ],
   "source": [
    "def fundefault(a, b=9):\n",
    "    print(f\"{a} and {b}\")\n",
    "\n",
    "fundefault(9,3)\n",
    "fundefault(5)"
   ]
  },
  {
   "cell_type": "code",
   "execution_count": 10,
   "metadata": {},
   "outputs": [
    {
     "name": "stdout",
     "output_type": "stream",
     "text": [
      "Hello, Alice!\n",
      "Good morning, Bob!\n"
     ]
    }
   ],
   "source": [
    "def greet(name, message=\"Hello\"):\n",
    "    print(f\"{message}, {name}!\")\n",
    "\n",
    "# Examples of calling the function\n",
    "greet(\"Alice\")              # Uses the default argument for message\n",
    "greet(\"Bob\", \"Good morning\")  # Overrides the default argument\n"
   ]
  },
  {
   "cell_type": "code",
   "execution_count": 15,
   "metadata": {},
   "outputs": [
    {
     "name": "stdout",
     "output_type": "stream",
     "text": [
      "10\n"
     ]
    }
   ],
   "source": [
    "def funarg(*num):\n",
    "    return sum(num)\n",
    "\n",
    "print(funarg(2,3,5))"
   ]
  },
  {
   "cell_type": "code",
   "execution_count": 17,
   "metadata": {},
   "outputs": [
    {
     "name": "stdout",
     "output_type": "stream",
     "text": [
      "2\n",
      "3\n",
      "4.6\n",
      "O\n",
      "Muhammad Usman\n"
     ]
    }
   ],
   "source": [
    "def funarg2(*num):\n",
    "    for i in num:\n",
    "        print(i)\n",
    "        \n",
    "funarg2(2,3,4.6,'O',\"Muhammad Usman\")"
   ]
  },
  {
   "cell_type": "code",
   "execution_count": 19,
   "metadata": {},
   "outputs": [
    {
     "name": "stdout",
     "output_type": "stream",
     "text": [
      "name and Muhammad Usman\n",
      "age and 29\n"
     ]
    }
   ],
   "source": [
    "def keyvaluemularg(**args):\n",
    "    for i,v in args.items():\n",
    "        print(f\"{i} and {v}\")\n",
    "\n",
    "keyvaluemularg(name=\"Muhammad Usman\", age=29)"
   ]
  },
  {
   "cell_type": "code",
   "execution_count": 20,
   "metadata": {},
   "outputs": [
    {
     "name": "stdout",
     "output_type": "stream",
     "text": [
      "19\n"
     ]
    }
   ],
   "source": [
    "sum = lambda a,b: a+b\n",
    "\n",
    "print(sum(9,10))"
   ]
  },
  {
   "cell_type": "code",
   "execution_count": 34,
   "metadata": {},
   "outputs": [
    {
     "name": "stdout",
     "output_type": "stream",
     "text": [
      "[1, 2, 3, 4, 5]\n",
      "1\n",
      "2\n",
      "3\n",
      "4\n",
      "5\n",
      "3\n",
      "[2]\n"
     ]
    }
   ],
   "source": [
    "listex=[1,2,3,4,5]\n",
    "print(listex)\n",
    "\n",
    "for l in listex:\n",
    "    print(l)\n",
    "    \n",
    "print(listex[0]+listex[1])\n",
    "\n",
    "print(listex[1:2:3])\n"
   ]
  },
  {
   "cell_type": "code",
   "execution_count": 35,
   "metadata": {},
   "outputs": [
    {
     "name": "stdout",
     "output_type": "stream",
     "text": [
      "5\n",
      "[1, 2, 3, 4, 5]\n"
     ]
    }
   ],
   "source": [
    "print(len(listex))\n",
    "print(sorted(listex))"
   ]
  }
 ],
 "metadata": {
  "kernelspec": {
   "display_name": "Python 3",
   "language": "python",
   "name": "python3"
  },
  "language_info": {
   "codemirror_mode": {
    "name": "ipython",
    "version": 3
   },
   "file_extension": ".py",
   "mimetype": "text/x-python",
   "name": "python",
   "nbconvert_exporter": "python",
   "pygments_lexer": "ipython3",
   "version": "3.13.1"
  }
 },
 "nbformat": 4,
 "nbformat_minor": 2
}
