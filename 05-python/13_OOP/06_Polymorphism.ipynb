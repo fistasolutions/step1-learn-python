{
 "cells": [
  {
   "cell_type": "markdown",
   "metadata": {},
   "source": [
    "# Polymorphism in Python\n",
    "\n",
    "## Overview\n",
    "Polymorphism is an OOP concept that allows objects of different classes to be treated as objects of a common superclass. It enables methods to be used interchangeably, even if the objects belong to different types.\n",
    "\n",
    "---\n",
    "\n",
    "## Key Concepts\n",
    "1. **Method Overriding**: A child class provides a specific implementation of a method that is already defined in its parent class.\n",
    "2. **Operator Overloading**: Same operator behaves differently based on the operands.\n",
    "3. **Function and Method Polymorphism**: Same function name can be used for different types.\n",
    "\n",
    "---\n",
    "\n",
    "## Syntax for Method Overriding\n",
    "```python\n",
    "class ParentClass:\n",
    "    def method(self):\n",
    "        print(\"This is the parent class method\")\n",
    "\n",
    "class ChildClass(ParentClass):\n",
    "    def method(self):\n",
    "        print(\"This is the child class method\")\n",
    "\n",
    "# Example usage\n",
    "obj = ChildClass()\n",
    "obj.method()  # Output: This is the child class method\n",
    "```\n",
    "\n",
    "---\n",
    "\n",
    "## Examples\n",
    "\n",
    "\n",
    "## Benefits of Polymorphism\n",
    "1. **Code Reusability**: Common methods can be reused across multiple classes.\n",
    "2. **Flexibility**: Reduces the complexity of the code and increases flexibility.\n",
    "3. **Scalability**: Makes it easier to add new functionalities.\n",
    "\n",
    "Polymorphism enhances the ability of code to work seamlessly with objects of different types. Let me know if you want to explore more examples or dive into advanced OOP concepts!\n"
   ]
  },
  {
   "cell_type": "code",
   "execution_count": 1,
   "metadata": {},
   "outputs": [
    {
     "name": "stdout",
     "output_type": "stream",
     "text": [
      "Woof Woof\n",
      "Meow\n"
     ]
    }
   ],
   "source": [
    "### 1. Method Overriding\n",
    "class Animal:\n",
    "    def sound(self):\n",
    "        print(\"This is a generic animal sound\")\n",
    "\n",
    "class Dog(Animal):\n",
    "    def sound(self):\n",
    "        print(\"Woof Woof\")\n",
    "\n",
    "class Cat(Animal):\n",
    "    def sound(self):\n",
    "        print(\"Meow\")\n",
    "\n",
    "# Using polymorphism\n",
    "animals = [Dog(), Cat()]\n",
    "for animal in animals:\n",
    "    animal.sound()\n",
    "    # Output:\n",
    "    # Woof Woof\n",
    "    # Meow\n",
    "\n"
   ]
  },
  {
   "cell_type": "code",
   "execution_count": 2,
   "metadata": {},
   "outputs": [
    {
     "name": "stdout",
     "output_type": "stream",
     "text": [
      "Point(4, 6)\n"
     ]
    }
   ],
   "source": [
    "### 2. Operator Overloading\n",
    "\n",
    "class Point:\n",
    "    def __init__(self, x, y):\n",
    "        self.x = x\n",
    "        self.y = y\n",
    "\n",
    "    def __add__(self, other):\n",
    "        return Point(self.x + other.x, self.y + other.y)\n",
    "\n",
    "    def __str__(self):\n",
    "        return f\"Point({self.x}, {self.y})\"\n",
    "\n",
    "# Creating two Point objects\n",
    "p1 = Point(1, 2)\n",
    "p2 = Point(3, 4)\n",
    "\n",
    "# Adding points using overloaded + operator\n",
    "p3 = p1 + p2\n",
    "print(p3)  # Output: Point(4, 6)\n"
   ]
  },
  {
   "cell_type": "code",
   "execution_count": 3,
   "metadata": {},
   "outputs": [
    {
     "name": "stdout",
     "output_type": "stream",
     "text": [
      "5\n",
      "9\n"
     ]
    }
   ],
   "source": [
    "### 3. Function Polymorphism\n",
    "\n",
    "def add(a, b, c=0):\n",
    "    return a + b + c\n",
    "\n",
    "# Function calls\n",
    "print(add(2, 3))        # Output: 5\n",
    "print(add(2, 3, 4))     # Output: 9\n"
   ]
  }
 ],
 "metadata": {
  "kernelspec": {
   "display_name": "Python 3",
   "language": "python",
   "name": "python3"
  },
  "language_info": {
   "codemirror_mode": {
    "name": "ipython",
    "version": 3
   },
   "file_extension": ".py",
   "mimetype": "text/x-python",
   "name": "python",
   "nbconvert_exporter": "python",
   "pygments_lexer": "ipython3",
   "version": "3.13.1"
  }
 },
 "nbformat": 4,
 "nbformat_minor": 2
}
