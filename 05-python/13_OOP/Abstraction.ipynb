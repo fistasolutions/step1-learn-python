{
 "cells": [
  {
   "cell_type": "markdown",
   "metadata": {},
   "source": [
    "# Abstraction in Python\n",
    "\n",
    "## Overview\n",
    "Abstraction is an OOP concept that focuses on hiding the implementation details of an object and exposing only the essential features. It is implemented using abstract classes and interfaces.\n",
    "\n",
    "---\n",
    "\n",
    "## Key Concepts\n",
    "1. **Abstract Class**: A class that cannot be instantiated and often contains one or more abstract methods.\n",
    "2. **Abstract Method**: A method that is declared but contains no implementation.\n",
    "\n",
    "---\n",
    "\n",
    "## Syntax for Abstraction\n",
    "```python\n",
    "from abc import ABC, abstractmethod\n",
    "\n",
    "class AbstractClass(ABC):\n",
    "\n",
    "    @abstractmethod\n",
    "    def abstract_method(self):\n",
    "        pass\n",
    "\n",
    "class ConcreteClass(AbstractClass):\n",
    "    def abstract_method(self):\n",
    "        print(\"Implementation of abstract method\")\n",
    "\n",
    "# Example usage\n",
    "obj = ConcreteClass()\n",
    "obj.abstract_method()  # Output: Implementation of abstract method\n",
    "```\n",
    "\n",
    "---\n",
    "\n",
    "## Examples\n",
    "\n",
    "\n",
    "---\n",
    "\n",
    "## Benefits of Abstraction\n",
    "1. **Hides Complexity**: Users only see the necessary details.\n",
    "2. **Encourages Code Reusability**: Abstract classes can define common behavior.\n",
    "3. **Improves Maintainability**: Simplifies code updates and bug fixes.\n",
    "\n",
    "Abstraction simplifies software design by focusing on what an object does rather than how it does it. Let me know if you need examples for advanced concepts or related topics!\n"
   ]
  },
  {
   "cell_type": "code",
   "execution_count": 1,
   "metadata": {},
   "outputs": [
    {
     "name": "stdout",
     "output_type": "stream",
     "text": [
      "Car engine started\n",
      "Motorcycle engine started\n"
     ]
    }
   ],
   "source": [
    "### 1. Abstract Class and Method\n",
    "\n",
    "from abc import ABC, abstractmethod\n",
    "\n",
    "class Vehicle(ABC):\n",
    "    @abstractmethod\n",
    "    def start_engine(self):\n",
    "        pass\n",
    "\n",
    "class Car(Vehicle):\n",
    "    def start_engine(self):\n",
    "        print(\"Car engine started\")\n",
    "\n",
    "class Motorcycle(Vehicle):\n",
    "    def start_engine(self):\n",
    "        print(\"Motorcycle engine started\")\n",
    "\n",
    "# Using abstraction\n",
    "vehicles = [Car(), Motorcycle()]\n",
    "for vehicle in vehicles:\n",
    "    vehicle.start_engine()\n",
    "    # Output:\n",
    "    # Car engine started\n",
    "    # Motorcycle engine started"
   ]
  },
  {
   "cell_type": "code",
   "execution_count": 2,
   "metadata": {},
   "outputs": [
    {
     "name": "stdout",
     "output_type": "stream",
     "text": [
      "Area of the rectangle: 50\n"
     ]
    }
   ],
   "source": [
    "### 2. Partial Implementation in Abstract Classes\n",
    "\n",
    "from abc import ABC, abstractmethod\n",
    "\n",
    "class Shape(ABC):\n",
    "    def __init__(self, color):\n",
    "        self.color = color\n",
    "\n",
    "    @abstractmethod\n",
    "    def area(self):\n",
    "        pass\n",
    "\n",
    "class Rectangle(Shape):\n",
    "    def __init__(self, color, width, height):\n",
    "        super().__init__(color)\n",
    "        self.width = width\n",
    "        self.height = height\n",
    "\n",
    "    def area(self):\n",
    "        return self.width * self.height\n",
    "\n",
    "# Example usage\n",
    "rect = Rectangle(\"Blue\", 5, 10)\n",
    "print(f\"Area of the rectangle: {rect.area()}\")  # Output: Area of the rectangle: 50\n",
    "\n"
   ]
  }
 ],
 "metadata": {
  "kernelspec": {
   "display_name": "Python 3",
   "language": "python",
   "name": "python3"
  },
  "language_info": {
   "codemirror_mode": {
    "name": "ipython",
    "version": 3
   },
   "file_extension": ".py",
   "mimetype": "text/x-python",
   "name": "python",
   "nbconvert_exporter": "python",
   "pygments_lexer": "ipython3",
   "version": "3.13.1"
  }
 },
 "nbformat": 4,
 "nbformat_minor": 2
}
