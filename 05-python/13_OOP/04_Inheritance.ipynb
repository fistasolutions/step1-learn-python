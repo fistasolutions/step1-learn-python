{
 "cells": [
  {
   "cell_type": "markdown",
   "id": "08146fae",
   "metadata": {},
   "source": [
    "\n",
    "# Inheritance in Python\n",
    "\n",
    "Inheritance is a fundamental concept in Object-Oriented Programming (OOP) that allows one class (child class) to derive or inherit properties and behaviors (methods) from another class (parent class). It promotes code reusability and logical hierarchy.\n",
    "\n",
    "## Benefits of Inheritance\n",
    "- **Code Reusability**: Reduces redundancy by reusing existing code.\n",
    "- **Modularity**: Helps organize code in a logical and hierarchical manner.\n",
    "- **Extensibility**: Makes it easy to extend the functionality of existing classes.\n"
   ]
  },
  {
   "cell_type": "markdown",
   "id": "d0794621",
   "metadata": {},
   "source": [
    "\n",
    "## Syntax of Inheritance\n",
    "\n",
    "```python\n",
    "class ParentClass:\n",
    "    # Parent class implementation\n",
    "\n",
    "class ChildClass(ParentClass):\n",
    "    # Child class implementation\n",
    "```\n"
   ]
  },
  {
   "cell_type": "markdown",
   "id": "38f8f175",
   "metadata": {},
   "source": [
    "\n",
    "## Types of Inheritance\n",
    "\n",
    "### 1. Single Inheritance\n",
    "A child class inherits from a single parent class.\n",
    "\n",
    "### 2. Multiple Inheritance\n",
    "A child class inherits from more than one parent class.\n",
    "\n",
    "### 3. Multilevel Inheritance\n",
    "A child class inherits from a parent class, which in turn inherits from another class.\n",
    "\n",
    "### 4. Hierarchical Inheritance\n",
    "Multiple child classes inherit from a single parent class.\n",
    "\n",
    "### 5. Hybrid Inheritance\n",
    "A combination of two or more types of inheritance.\n"
   ]
  },
  {
   "cell_type": "code",
   "execution_count": 1,
   "id": "02fd8642",
   "metadata": {},
   "outputs": [
    {
     "name": "stdout",
     "output_type": "stream",
     "text": [
      "The dog barks.\n"
     ]
    }
   ],
   "source": [
    "\n",
    "# Single Inheritance\n",
    "class Animal:\n",
    "    def speak(self):\n",
    "        print(\"This animal makes a sound.\")\n",
    "\n",
    "class Dog(Animal):\n",
    "    def speak(self):\n",
    "        print(\"The dog barks.\")\n",
    "\n",
    "# Example\n",
    "dog = Dog()\n",
    "dog.speak()  # Output: The dog barks.\n"
   ]
  },
  {
   "cell_type": "code",
   "execution_count": 2,
   "id": "9b822d5e",
   "metadata": {},
   "outputs": [
    {
     "name": "stdout",
     "output_type": "stream",
     "text": [
      "Engine started.\n",
      "Wheels are moving.\n"
     ]
    }
   ],
   "source": [
    "\n",
    "# Multiple Inheritance\n",
    "class Engine:\n",
    "    def start(self):\n",
    "        print(\"Engine started.\")\n",
    "\n",
    "class Wheels:\n",
    "    def move(self):\n",
    "        print(\"Wheels are moving.\")\n",
    "\n",
    "class Car(Engine, Wheels):\n",
    "    pass\n",
    "\n",
    "# Example\n",
    "car = Car()\n",
    "car.start()  # Output: Engine started.\n",
    "car.move()   # Output: Wheels are moving.\n"
   ]
  },
  {
   "cell_type": "code",
   "execution_count": 3,
   "id": "1704b851",
   "metadata": {},
   "outputs": [
    {
     "name": "stdout",
     "output_type": "stream",
     "text": [
      "This is a vehicle.\n",
      "This is a car.\n",
      "This is a sports car.\n"
     ]
    }
   ],
   "source": [
    "\n",
    "# Multilevel Inheritance\n",
    "class Vehicle:\n",
    "    def display(self):\n",
    "        print(\"This is a vehicle.\")\n",
    "\n",
    "class Car(Vehicle):\n",
    "    def brand(self):\n",
    "        print(\"This is a car.\")\n",
    "\n",
    "class SportsCar(Car):\n",
    "    def type(self):\n",
    "        print(\"This is a sports car.\")\n",
    "\n",
    "# Example\n",
    "sports_car = SportsCar()\n",
    "sports_car.display()  # Output: This is a vehicle.\n",
    "sports_car.brand()    # Output: This is a car.\n",
    "sports_car.type()     # Output: This is a sports car.\n"
   ]
  },
  {
   "cell_type": "code",
   "execution_count": 4,
   "id": "860e9e9c",
   "metadata": {},
   "outputs": [
    {
     "name": "stdout",
     "output_type": "stream",
     "text": [
      "The dog barks.\n",
      "The cat meows.\n"
     ]
    }
   ],
   "source": [
    "\n",
    "# Hierarchical Inheritance\n",
    "class Animal:\n",
    "    def speak(self):\n",
    "        print(\"This animal makes a sound.\")\n",
    "\n",
    "class Dog(Animal):\n",
    "    def speak(self):\n",
    "        print(\"The dog barks.\")\n",
    "\n",
    "class Cat(Animal):\n",
    "    def speak(self):\n",
    "        print(\"The cat meows.\")\n",
    "\n",
    "# Examples\n",
    "dog = Dog()\n",
    "cat = Cat()\n",
    "\n",
    "dog.speak()  # Output: The dog barks.\n",
    "cat.speak()  # Output: The cat meows.\n"
   ]
  },
  {
   "cell_type": "code",
   "execution_count": 5,
   "id": "4893ea6d",
   "metadata": {},
   "outputs": [
    {
     "name": "stdout",
     "output_type": "stream",
     "text": [
      "Engine started.\n",
      "This is a vehicle.\n",
      "The car is driving.\n"
     ]
    }
   ],
   "source": [
    "\n",
    "# Hybrid Inheritance\n",
    "class Engine:\n",
    "    def start(self):\n",
    "        print(\"Engine started.\")\n",
    "\n",
    "class Vehicle:\n",
    "    def type(self):\n",
    "        print(\"This is a vehicle.\")\n",
    "\n",
    "class Car(Vehicle, Engine):\n",
    "    def drive(self):\n",
    "        print(\"The car is driving.\")\n",
    "\n",
    "# Example\n",
    "car = Car()\n",
    "car.start()  # Output: Engine started.\n",
    "car.type()   # Output: This is a vehicle.\n",
    "car.drive()  # Output: The car is driving.\n"
   ]
  },
  {
   "cell_type": "markdown",
   "id": "527e5af7",
   "metadata": {},
   "source": [
    "\n",
    "## Summary\n",
    "\n",
    "Inheritance in Python helps achieve modularity, code reusability, and logical organization of classes. Understanding the different types of inheritance enables developers to choose the right approach based on project requirements.\n"
   ]
  }
 ],
 "metadata": {
  "kernelspec": {
   "display_name": "Python 3",
   "language": "python",
   "name": "python3"
  },
  "language_info": {
   "codemirror_mode": {
    "name": "ipython",
    "version": 3
   },
   "file_extension": ".py",
   "mimetype": "text/x-python",
   "name": "python",
   "nbconvert_exporter": "python",
   "pygments_lexer": "ipython3",
   "version": "3.13.1"
  }
 },
 "nbformat": 4,
 "nbformat_minor": 5
}
