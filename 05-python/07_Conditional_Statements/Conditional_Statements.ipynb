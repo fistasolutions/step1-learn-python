{
 "cells": [
  {
   "cell_type": "markdown",
   "metadata": {},
   "source": [
    "# Conditional Statements in Python\n",
    "\n",
    "## Overview\n",
    "Conditional statements in Python allow you to execute code based on certain conditions. These are essential for decision-making in programming.\n",
    "\n",
    "### Types of Conditional Statements:\n",
    "1. **if statement**\n",
    "2. **if-else statement**\n",
    "3. **if-elif-else ladder**\n",
    "4. **Nested if statements**\n",
    "5. **Conditional expressions (Ternary Operator)**\n",
    "\n",
    "---\n",
    "\n",
    "## Syntax and Explanation\n",
    "\n",
    "### 1. `if` Statement\n",
    "Executes a block of code if the condition is `True`.\n",
    "```python\n",
    "if condition:\n",
    "    # Code to execute if condition is True\n",
    "```\n",
    "\n",
    "### 2. `if-else` Statement\n",
    "Executes one block of code if the condition is `True`, otherwise executes another block.\n",
    "```python\n",
    "if condition:\n",
    "    # Code to execute if condition is True\n",
    "else:\n",
    "    # Code to execute if condition is False\n",
    "```\n",
    "\n",
    "### 3. `if-elif-else` Ladder\n",
    "Allows you to check multiple conditions.\n",
    "```python\n",
    "if condition1:\n",
    "    # Code to execute if condition1 is True\n",
    "elif condition2:\n",
    "    # Code to execute if condition2 is True\n",
    "else:\n",
    "    # Code to execute if none of the above conditions are True\n",
    "```\n",
    "\n",
    "### 4. Nested `if` Statements\n",
    "You can nest `if` statements inside another `if` statement.\n",
    "```python\n",
    "if condition1:\n",
    "    if condition2:\n",
    "        # Code to execute if both condition1 and condition2 are True\n",
    "```\n",
    "\n",
    "### 5. Conditional Expressions (Ternary Operator)\n",
    "A compact way of writing `if-else`.\n",
    "```python\n",
    "value = true_value if condition else false_value\n",
    "```\n",
    "\n",
    "---\n",
    "\n",
    "## Code Examples\n",
    "Below are examples illustrating each type of conditional statement.\n",
    "\n"
   ]
  },
  {
   "cell_type": "code",
   "execution_count": 4,
   "metadata": {},
   "outputs": [
    {
     "name": "stdout",
     "output_type": "stream",
     "text": [
      "x is greater than 5\n"
     ]
    }
   ],
   "source": [
    "### Example 1: `if` Statement\n",
    "x = 10\n",
    "if x > 5:\n",
    "    print(\"x is greater than 5\")"
   ]
  },
  {
   "cell_type": "code",
   "execution_count": 8,
   "metadata": {},
   "outputs": [
    {
     "name": "stdout",
     "output_type": "stream",
     "text": [
      "x is even\n"
     ]
    }
   ],
   "source": [
    "### Example 2: `if-else` Statement\n",
    "x = 10\n",
    "if x % 2 == 0:\n",
    "    print(\"x is even\")\n",
    "else:\n",
    "    print(\"x is odd\")\n"
   ]
  },
  {
   "cell_type": "code",
   "execution_count": 7,
   "metadata": {},
   "outputs": [
    {
     "name": "stdout",
     "output_type": "stream",
     "text": [
      "x is positive\n"
     ]
    }
   ],
   "source": [
    "### Example 3: `if-elif-else` Ladder\n",
    "x = 10\n",
    "if x < 0:\n",
    "    print(\"x is negative\")\n",
    "elif x == 0:\n",
    "    print(\"x is zero\")\n",
    "else:\n",
    "    print(\"x is positive\")"
   ]
  },
  {
   "cell_type": "code",
   "execution_count": 6,
   "metadata": {},
   "outputs": [
    {
     "name": "stdout",
     "output_type": "stream",
     "text": [
      "Both x and y are positive\n"
     ]
    }
   ],
   "source": [
    "### Example 4: Nested `if` Statements\n",
    "x = 10\n",
    "y = 5\n",
    "if x > 0:\n",
    "    if y > 0:\n",
    "        print(\"Both x and y are positive\")"
   ]
  },
  {
   "cell_type": "code",
   "execution_count": 5,
   "metadata": {},
   "outputs": [
    {
     "name": "stdout",
     "output_type": "stream",
     "text": [
      "x is even\n"
     ]
    }
   ],
   "source": [
    "### Example 5: Conditional Expressions (Ternary Operator)\n",
    "x = 10\n",
    "parity = \"even\" if x % 2 == 0 else \"odd\"\n",
    "print(f\"x is {parity}\")"
   ]
  }
 ],
 "metadata": {
  "kernelspec": {
   "display_name": "Python 3",
   "language": "python",
   "name": "python3"
  },
  "language_info": {
   "codemirror_mode": {
    "name": "ipython",
    "version": 3
   },
   "file_extension": ".py",
   "mimetype": "text/x-python",
   "name": "python",
   "nbconvert_exporter": "python",
   "pygments_lexer": "ipython3",
   "version": "3.13.1"
  }
 },
 "nbformat": 4,
 "nbformat_minor": 2
}
