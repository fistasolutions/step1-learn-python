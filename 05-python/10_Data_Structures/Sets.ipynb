{
 "cells": [
  {
   "cell_type": "markdown",
   "metadata": {},
   "source": [
    "# Python Sets: Overview and Functions\n",
    "\n",
    "## Overview\n",
    "Sets in Python are unordered collections of unique items. They are useful for eliminating duplicate entries and performing mathematical set operations like union, intersection, and difference.\n",
    "\n",
    "### Characteristics of Sets\n",
    "1. **Unordered**: Items do not maintain any specific order.\n",
    "2. **Unique Elements**: Duplicate elements are automatically removed.\n",
    "3. **Mutable**: You can add or remove items from a set.\n",
    "4. **Hashable Elements**: All elements in a set must be immutable and hashable.\n",
    "\n",
    "### Syntax to Create a Set\n",
    "```python\n",
    "my_set = {element1, element2, element3, ...}\n",
    "empty_set = set()  # Use the set() function to create an empty set\n",
    "```\n",
    "\n",
    "---\n",
    "\n",
    "## Set Functions and Methods\n",
    "\n",
    "### Basic Operations\n",
    "1. **Adding Items**:\n",
    "   ```python\n",
    "   my_set.add(element)\n",
    "   ```\n",
    "2. **Removing Items**:\n",
    "   ```python\n",
    "   my_set.remove(element)  # Raises KeyError if the element is not found\n",
    "   my_set.discard(element) # Does not raise an error if the element is not found\n",
    "   ```\n",
    "3. **Checking Membership**:\n",
    "   ```python\n",
    "   element in my_set\n",
    "   ```\n",
    "4. **Clearing a Set**:\n",
    "   ```python\n",
    "   my_set.clear()\n",
    "   ```\n",
    "\n",
    "### Built-in Functions\n",
    "1. **len(set)**: Returns the number of elements in the set.\n",
    "2. **set.union(other_set)**: Returns a new set containing all unique elements from both sets.\n",
    "3. **set.intersection(other_set)**: Returns a new set with elements common to both sets.\n",
    "4. **set.difference(other_set)**: Returns a new set with elements in the first set but not in the second.\n",
    "5. **set.symmetric_difference(other_set)**: Returns a new set with elements in either set but not in both.\n",
    "\n",
    "### Set Methods\n",
    "1. **add(element)**: Adds an element to the set.\n",
    "   ```python\n",
    "   my_set.add(10)\n",
    "   ```\n",
    "2. **update(iterable)**: Adds multiple elements to the set.\n",
    "   ```python\n",
    "   my_set.update([1, 2, 3])\n",
    "   ```\n",
    "3. **remove(element)**: Removes an element, raises KeyError if not found.\n",
    "   ```python\n",
    "   my_set.remove(1)\n",
    "   ```\n",
    "4. **discard(element)**: Removes an element, does not raise an error if not found.\n",
    "   ```python\n",
    "   my_set.discard(1)\n",
    "   ```\n",
    "5. **pop()**: Removes and returns an arbitrary element.\n",
    "   ```python\n",
    "   my_set.pop()\n",
    "   ```\n",
    "\n",
    "---\n",
    "\n",
    "## Examples\n",
    "Below are examples demonstrating each set operation and method.\n"
   ]
  },
  {
   "cell_type": "code",
   "execution_count": 10,
   "metadata": {},
   "outputs": [
    {
     "name": "stdout",
     "output_type": "stream",
     "text": [
      "{1, 2, 3, 4}\n"
     ]
    }
   ],
   "source": [
    "### Example 1: Creating and Accessing Sets\n",
    "\n",
    "my_set = {1, 2, 3, 4}\n",
    "print(my_set)  # Output: {1, 2, 3, 4}"
   ]
  },
  {
   "cell_type": "code",
   "execution_count": 9,
   "metadata": {},
   "outputs": [
    {
     "name": "stdout",
     "output_type": "stream",
     "text": [
      "{1, 2, 3, 4}\n",
      "{1, 3, 4}\n",
      "{1, 4}\n"
     ]
    }
   ],
   "source": [
    "### Example 2: Adding and Removing Elements\n",
    "\n",
    "my_set = {1, 2, 3}\n",
    "my_set.add(4)\n",
    "print(my_set)  # Output: {1, 2, 3, 4}\n",
    "\n",
    "my_set.discard(2)\n",
    "print(my_set)  # Output: {1, 3, 4}\n",
    "\n",
    "my_set.remove(3)\n",
    "print(my_set)  # Output: {1, 4}"
   ]
  },
  {
   "cell_type": "code",
   "execution_count": 6,
   "metadata": {},
   "outputs": [
    {
     "name": "stdout",
     "output_type": "stream",
     "text": [
      "{1, 2, 3, 4, 5}\n",
      "{3}\n",
      "{1, 2}\n",
      "{1, 2, 4, 5}\n"
     ]
    }
   ],
   "source": [
    "### Example 3: Set Operations\n",
    "\n",
    "set_a = {1, 2, 3}\n",
    "set_b = {3, 4, 5}\n",
    "\n",
    "# Union\n",
    "print(set_a.union(set_b))  # Output: {1, 2, 3, 4, 5}\n",
    "\n",
    "# Intersection\n",
    "print(set_a.intersection(set_b))  # Output: {3}\n",
    "\n",
    "# Difference\n",
    "print(set_a.difference(set_b))  # Output: {1, 2}\n",
    "\n",
    "# Symmetric Difference\n",
    "print(set_a.symmetric_difference(set_b))  # Output: {1, 2, 4, 5}"
   ]
  },
  {
   "cell_type": "code",
   "execution_count": 4,
   "metadata": {},
   "outputs": [
    {
     "name": "stdout",
     "output_type": "stream",
     "text": [
      "True\n",
      "False\n"
     ]
    }
   ],
   "source": [
    "### Example 4: Membership Testing\n",
    "\n",
    "my_set = {\"apple\", \"banana\", \"cherry\"}\n",
    "print(\"apple\" in my_set)  # Output: True\n",
    "print(\"grape\" in my_set)  # Output: False"
   ]
  },
  {
   "cell_type": "code",
   "execution_count": 3,
   "metadata": {},
   "outputs": [
    {
     "name": "stdout",
     "output_type": "stream",
     "text": [
      "set()\n",
      "{1, 2, 3}\n"
     ]
    }
   ],
   "source": [
    "### Example 5: Clearing and Copying\n",
    "\n",
    "my_set = {1, 2, 3}\n",
    "copy_set = my_set.copy()\n",
    "my_set.clear()\n",
    "print(my_set)  # Output: set()\n",
    "print(copy_set)  # Output: {1, 2, 3}"
   ]
  },
  {
   "cell_type": "code",
   "execution_count": 2,
   "metadata": {},
   "outputs": [
    {
     "name": "stdout",
     "output_type": "stream",
     "text": [
      "{1, 2, 3, 4, 5}\n"
     ]
    }
   ],
   "source": [
    "### Example 6: Updating Sets\n",
    "\n",
    "my_set = {1, 2}\n",
    "my_set.update([3, 4, 5])\n",
    "print(my_set)  # Output: {1, 2, 3, 4, 5}\n"
   ]
  }
 ],
 "metadata": {
  "kernelspec": {
   "display_name": "Python 3",
   "language": "python",
   "name": "python3"
  },
  "language_info": {
   "codemirror_mode": {
    "name": "ipython",
    "version": 3
   },
   "file_extension": ".py",
   "mimetype": "text/x-python",
   "name": "python",
   "nbconvert_exporter": "python",
   "pygments_lexer": "ipython3",
   "version": "3.13.1"
  }
 },
 "nbformat": 4,
 "nbformat_minor": 2
}
