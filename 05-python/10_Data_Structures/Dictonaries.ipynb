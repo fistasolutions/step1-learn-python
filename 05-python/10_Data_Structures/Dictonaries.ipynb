{
 "cells": [
  {
   "cell_type": "markdown",
   "metadata": {},
   "source": [
    "# Python Dictionaries: Overview and Functions\n",
    "\n",
    "## Overview\n",
    "Dictionaries in Python are unordered collections of items where each item consists of a key-value pair. They are optimized for fast lookups and are widely used to represent structured data.\n",
    "\n",
    "### Characteristics of Dictionaries\n",
    "1. **Unordered**: Items do not maintain any specific order (prior to Python 3.7).\n",
    "2. **Key-Value Pairing**: Data is stored as key-value pairs.\n",
    "3. **Keys are Unique**: Keys must be unique, immutable, and hashable.\n",
    "4. **Mutable**: Values can be modified, and new key-value pairs can be added.\n",
    "\n",
    "### Syntax to Create a Dictionary\n",
    "```python\n",
    "my_dict = {\n",
    "    \"key1\": value1,\n",
    "    \"key2\": value2,\n",
    "    \"key3\": value3\n",
    "}\n",
    "```\n",
    "\n",
    "---\n",
    "\n",
    "## Dictionary Functions and Methods\n",
    "\n",
    "### Basic Operations\n",
    "1. **Accessing Values**:\n",
    "   ```python\n",
    "   my_dict[key]\n",
    "   ```\n",
    "2. **Adding/Updating Items**:\n",
    "   ```python\n",
    "   my_dict[key] = value\n",
    "   ```\n",
    "3. **Deleting Items**:\n",
    "   ```python\n",
    "   del my_dict[key]\n",
    "   ```\n",
    "\n",
    "### Built-in Functions\n",
    "1. **len(dict)**: Returns the number of key-value pairs.\n",
    "2. **dict.keys()**: Returns a view of all keys.\n",
    "3. **dict.values()**: Returns a view of all values.\n",
    "4. **dict.items()**: Returns a view of all key-value pairs.\n",
    "5. **dict.get(key, default)**: Returns the value for a key or a default value if the key is not found.\n",
    "6. **dict.clear()**: Removes all items from the dictionary.\n",
    "7. **dict.copy()**: Returns a shallow copy of the dictionary.\n",
    "\n",
    "### Dictionary Methods\n",
    "1. **update(other_dict)**: Updates the dictionary with key-value pairs from another dictionary or iterable of pairs.\n",
    "   ```python\n",
    "   my_dict.update({\"key4\": value4})\n",
    "   ```\n",
    "2. **pop(key, default)**: Removes a key and returns its value, or the default value if the key is not found.\n",
    "   ```python\n",
    "   value = my_dict.pop(\"key1\")\n",
    "   ```\n",
    "3. **popitem()**: Removes and returns an arbitrary key-value pair as a tuple.\n",
    "   ```python\n",
    "   key, value = my_dict.popitem()\n",
    "   ```\n",
    "4. **setdefault(key, default)**: Returns the value for a key or sets it to the default value if the key is not found.\n",
    "   ```python\n",
    "   value = my_dict.setdefault(\"key5\", default_value)\n",
    "   ```\n",
    "\n",
    "---\n",
    "\n",
    "## Examples\n",
    "Below are examples demonstrating each dictionary operation and method.\n"
   ]
  },
  {
   "cell_type": "code",
   "execution_count": 6,
   "metadata": {},
   "outputs": [
    {
     "name": "stdout",
     "output_type": "stream",
     "text": [
      "Alice\n",
      "25\n",
      "USA\n"
     ]
    }
   ],
   "source": [
    "### Example 1: Creating and Accessing Dictionaries\n",
    "\n",
    "my_dict = {\"name\": \"Alice\", \"age\": 25, \"city\": \"New York\"}\n",
    "print(my_dict[\"name\"])  # Output: Alice\n",
    "print(my_dict.get(\"age\"))  # Output: 25\n",
    "print(my_dict.get(\"country\", \"USA\"))  # Output: USA\n",
    "\n",
    "\n"
   ]
  },
  {
   "cell_type": "code",
   "execution_count": 5,
   "metadata": {},
   "outputs": [
    {
     "name": "stdout",
     "output_type": "stream",
     "text": [
      "{'name': 'Alice', 'age': 25, 'city': 'New York'}\n",
      "{'name': 'Alice', 'age': 26, 'city': 'New York'}\n"
     ]
    }
   ],
   "source": [
    "### Example 2: Adding and Updating Items\n",
    "\n",
    "my_dict = {\"name\": \"Alice\", \"age\": 25}\n",
    "my_dict[\"city\"] = \"New York\"\n",
    "print(my_dict)  # Output: {'name': 'Alice', 'age': 25, 'city': 'New York'}\n",
    "\n",
    "my_dict[\"age\"] = 26\n",
    "print(my_dict)  # Output: {'name': 'Alice', 'age': 26, 'city': 'New York'}\n",
    "\n",
    "\n"
   ]
  },
  {
   "cell_type": "code",
   "execution_count": 4,
   "metadata": {},
   "outputs": [
    {
     "name": "stdout",
     "output_type": "stream",
     "text": [
      "{'name': 'Alice', 'city': 'New York'}\n",
      "New York\n",
      "{'name': 'Alice'}\n"
     ]
    }
   ],
   "source": [
    "### Example 3: Deleting Items\n",
    "\n",
    "my_dict = {\"name\": \"Alice\", \"age\": 25, \"city\": \"New York\"}\n",
    "del my_dict[\"age\"]\n",
    "print(my_dict)  # Output: {'name': 'Alice', 'city': 'New York'}\n",
    "\n",
    "value = my_dict.pop(\"city\")\n",
    "print(value)  # Output: New York\n",
    "print(my_dict)  # Output: {'name': 'Alice'}\n",
    "\n",
    "\n"
   ]
  },
  {
   "cell_type": "code",
   "execution_count": 3,
   "metadata": {},
   "outputs": [
    {
     "name": "stdout",
     "output_type": "stream",
     "text": [
      "['a', 'b', 'c']\n",
      "[1, 2, 3]\n",
      "[('a', 1), ('b', 2), ('c', 3)]\n"
     ]
    }
   ],
   "source": [
    "### Example 4: Using Dictionary Methods\n",
    "\n",
    "my_dict = {\"a\": 1, \"b\": 2, \"c\": 3}\n",
    "keys = my_dict.keys()\n",
    "print(list(keys))  # Output: ['a', 'b', 'c']\n",
    "\n",
    "values = my_dict.values()\n",
    "print(list(values))  # Output: [1, 2, 3]\n",
    "\n",
    "items = my_dict.items()\n",
    "print(list(items))  # Output: [('a', 1), ('b', 2), ('c', 3)]\n",
    "\n",
    "\n"
   ]
  },
  {
   "cell_type": "code",
   "execution_count": 2,
   "metadata": {},
   "outputs": [
    {
     "name": "stdout",
     "output_type": "stream",
     "text": [
      "{}\n",
      "{'a': 1, 'b': 2, 'c': 3}\n"
     ]
    }
   ],
   "source": [
    "### Example 5: Clearing and Copying\n",
    "my_dict = {\"a\": 1, \"b\": 2, \"c\": 3}\n",
    "copied_dict = my_dict.copy()\n",
    "my_dict.clear()\n",
    "print(my_dict)  # Output: {}\n",
    "print(copied_dict)  # Output: {'a': 1, 'b': 2, 'c': 3}"
   ]
  },
  {
   "cell_type": "code",
   "execution_count": 1,
   "metadata": {},
   "outputs": [
    {
     "name": "stdout",
     "output_type": "stream",
     "text": [
      "{'a': 1, 'b': 2, 'c': 3, 'd': 4}\n"
     ]
    }
   ],
   "source": [
    "### Example 6: Combining Dictionaries\n",
    "\n",
    "my_dict = {\"a\": 1, \"b\": 2}\n",
    "another_dict = {\"c\": 3, \"d\": 4}\n",
    "my_dict.update(another_dict)\n",
    "print(my_dict)  # Output: {'a': 1, 'b': 2, 'c': 3, 'd': 4}\n",
    "\n"
   ]
  }
 ],
 "metadata": {
  "kernelspec": {
   "display_name": "Python 3",
   "language": "python",
   "name": "python3"
  },
  "language_info": {
   "codemirror_mode": {
    "name": "ipython",
    "version": 3
   },
   "file_extension": ".py",
   "mimetype": "text/x-python",
   "name": "python",
   "nbconvert_exporter": "python",
   "pygments_lexer": "ipython3",
   "version": "3.13.1"
  }
 },
 "nbformat": 4,
 "nbformat_minor": 2
}
