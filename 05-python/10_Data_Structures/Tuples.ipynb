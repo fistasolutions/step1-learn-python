{
 "cells": [
  {
   "cell_type": "markdown",
   "metadata": {},
   "source": [
    "# Python Tuples: Overview and Functions\n",
    "\n",
    "## Overview\n",
    "Tuples in Python are ordered, immutable, and allow duplicate elements. They are useful for representing fixed collections of items.\n",
    "\n",
    "### Characteristics of Tuples\n",
    "1. **Ordered**: Items maintain their order of insertion.\n",
    "2. **Immutable**: Items cannot be changed after the tuple is created.\n",
    "3. **Heterogeneous**: A tuple can contain items of different data types.\n",
    "\n",
    "### Syntax to Create a Tuple\n",
    "```python\n",
    "my_tuple = (element1, element2, element3, ...)\n",
    "```\n",
    "\n",
    "---\n",
    "\n",
    "## Tuple Functions and Methods\n",
    "\n",
    "### Basic Operations\n",
    "1. **Accessing Elements**:\n",
    "   ```python\n",
    "   my_tuple[index]\n",
    "   ```\n",
    "2. **Slicing**:\n",
    "   ```python\n",
    "   my_tuple[start:end:step]\n",
    "   ```\n",
    "3. **Length of Tuple**:\n",
    "   ```python\n",
    "   len(my_tuple)\n",
    "   ```\n",
    "\n",
    "### Built-in Functions\n",
    "1. **len(tuple)**: Returns the number of elements.\n",
    "2. **max(tuple)**: Returns the largest element.\n",
    "3. **min(tuple)**: Returns the smallest element.\n",
    "4. **sum(tuple)**: Returns the sum of all numeric elements.\n",
    "5. **sorted(tuple)**: Returns a new sorted list.\n",
    "\n",
    "### Tuple Methods\n",
    "Tuples have a limited number of methods since they are immutable:\n",
    "1. **index(item)**: Returns the index of the first occurrence of an item.\n",
    "   ```python\n",
    "   index = my_tuple.index(value)\n",
    "   ```\n",
    "2. **count(item)**: Counts occurrences of an item.\n",
    "   ```python\n",
    "   count = my_tuple.count(value)\n",
    "   ```\n",
    "\n",
    "---\n",
    "\n",
    "## Examples\n",
    "Below are examples demonstrating each tuple operation and method."
   ]
  },
  {
   "cell_type": "code",
   "execution_count": 4,
   "metadata": {},
   "outputs": [
    {
     "name": "stdout",
     "output_type": "stream",
     "text": [
      "1\n",
      "5\n"
     ]
    }
   ],
   "source": [
    "### Example 1: Creating and Accessing Tuples\n",
    "\n",
    "my_tuple = (1, 2, 3, 4, 5)\n",
    "print(my_tuple[0])  # Access first element\n",
    "print(my_tuple[-1]) # Access last element"
   ]
  },
  {
   "cell_type": "code",
   "execution_count": 3,
   "metadata": {},
   "outputs": [
    {
     "name": "stdout",
     "output_type": "stream",
     "text": [
      "(20, 30, 40)\n",
      "(10, 20, 30)\n"
     ]
    }
   ],
   "source": [
    "### Example 2: Slicing Tuples\n",
    "\n",
    "my_tuple = (10, 20, 30, 40, 50)\n",
    "print(my_tuple[1:4])  # Output: (20, 30, 40)\n",
    "print(my_tuple[:3])   # Output: (10, 20, 30)"
   ]
  },
  {
   "cell_type": "code",
   "execution_count": 2,
   "metadata": {},
   "outputs": [
    {
     "name": "stdout",
     "output_type": "stream",
     "text": [
      "3\n",
      "1\n"
     ]
    }
   ],
   "source": [
    "### Example 3: Using Tuple Methods\n",
    "\n",
    "my_tuple = (1, 2, 2, 3, 4, 4, 4)\n",
    "print(my_tuple.count(4))  # Output: 3\n",
    "print(my_tuple.index(2))  # Output: 1"
   ]
  },
  {
   "cell_type": "code",
   "execution_count": 1,
   "metadata": {},
   "outputs": [
    {
     "name": "stdout",
     "output_type": "stream",
     "text": [
      "5\n",
      "50\n",
      "10\n",
      "150\n"
     ]
    }
   ],
   "source": [
    "### Example 4: Using Built-in Functions\n",
    "my_tuple = (10, 20, 30, 40, 50)\n",
    "print(len(my_tuple))  # Output: 5\n",
    "print(max(my_tuple))  # Output: 50\n",
    "print(min(my_tuple))  # Output: 10\n",
    "print(sum(my_tuple))  # Output: 150"
   ]
  }
 ],
 "metadata": {
  "kernelspec": {
   "display_name": "Python 3",
   "language": "python",
   "name": "python3"
  },
  "language_info": {
   "codemirror_mode": {
    "name": "ipython",
    "version": 3
   },
   "file_extension": ".py",
   "mimetype": "text/x-python",
   "name": "python",
   "nbconvert_exporter": "python",
   "pygments_lexer": "ipython3",
   "version": "3.13.1"
  }
 },
 "nbformat": 4,
 "nbformat_minor": 2
}
