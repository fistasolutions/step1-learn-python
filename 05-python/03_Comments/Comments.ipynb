{
 "cells": [
  {
   "cell_type": "markdown",
   "metadata": {},
   "source": [
    "# Comments in Python\n",
    "\n",
    "## What are Comments?\n",
    "Comments are lines in a program that are ignored by the Python interpreter. They are used to explain the code, make it more readable, and provide context for other developers or your future self.\n",
    "\n",
    "### Why Use Comments?\n",
    "- Explain the purpose of the code.\n",
    "- Debug or temporarily disable parts of the code.\n",
    "- Enhance code readability and maintainability.\n",
    "\n",
    "---\n",
    "\n",
    "## Single-Line Comments\n",
    "Single-line comments begin with the `#` symbol. Everything after the `#` on that line is treated as a comment.\n",
    "\n",
    "### Example:\n",
    "```python\n",
    "# This is a single-line comment\n",
    "print(\"Hello, World!\")  # This prints a message to the console\n",
    "```\n",
    "\n",
    "### Output:\n",
    "```\n",
    "Hello, World!\n",
    "```\n",
    "\n",
    "---\n",
    "\n",
    "## Multi-Line Comments\n",
    "Python does not have a specific syntax for multi-line comments. However, you can use triple quotes (`'''` or `\"\"\"`) to create a block of text that acts as a comment. Note that this is technically a string and is not treated as a comment unless it is not assigned to a variable.\n",
    "\n",
    "### Example:\n",
    "```python\n",
    "\"\"\"\n",
    "This is a multi-line comment.\n",
    "You can use it to explain larger pieces of code.\n",
    "\"\"\"\n",
    "print(\"Python supports multi-line comments using triple quotes.\")\n",
    "```\n",
    "\n",
    "### Output:\n",
    "```\n",
    "Python supports multi-line comments using triple quotes.\n",
    "```\n",
    "\n",
    "---\n",
    "\n",
    "## Best Practices for Comments\n",
    "1. **Keep Comments Relevant:** Write comments that explain the *why*, not the *what*, of your code.\n",
    "   ```python\n",
    "   # Fetch user data from the database\n",
    "   user_data = fetch_data()\n",
    "   ```\n",
    "\n",
    "2. **Update Comments:** Ensure comments stay up-to-date with code changes.\n",
    "\n",
    "3. **Avoid Redundant Comments:** Do not write comments that repeat what the code already clearly states.\n",
    "   ```python\n",
    "   # Increment the counter by 1  (Redundant)\n",
    "   counter += 1\n",
    "   ```\n",
    "\n",
    "4. **Use Proper Formatting:** Use capitalization and punctuation for clarity.\n",
    "   ```python\n",
    "   # This function calculates the factorial of a number.\n",
    "   ```\n",
    "\n",
    "---\n",
    "\n",
    "## Running Python with Comments\n",
    "Comments are ignored by the Python interpreter and do not affect program execution. Feel free to use them liberally to improve code quality and documentation.\n"
   ]
  },
  {
   "cell_type": "code",
   "execution_count": 5,
   "metadata": {},
   "outputs": [
    {
     "name": "stdout",
     "output_type": "stream",
     "text": [
      "Hello this is real running code\n"
     ]
    }
   ],
   "source": [
    "\n",
    "#This is sing line comment\n",
    "\"\"\"\n",
    "This is a multiline comment in Python.\n",
    "It can span multiple lines.\n",
    "\"\"\"\n",
    "print(\"Hello this is real running code\")\n",
    "\n",
    "\n",
    "\n"
   ]
  }
 ],
 "metadata": {
  "kernelspec": {
   "display_name": "Python 3",
   "language": "python",
   "name": "python3"
  },
  "language_info": {
   "codemirror_mode": {
    "name": "ipython",
    "version": 3
   },
   "file_extension": ".py",
   "mimetype": "text/x-python",
   "name": "python",
   "nbconvert_exporter": "python",
   "pygments_lexer": "ipython3",
   "version": "3.13.1"
  }
 },
 "nbformat": 4,
 "nbformat_minor": 2
}
