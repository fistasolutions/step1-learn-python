{
 "cells": [
  {
   "cell_type": "markdown",
   "metadata": {},
   "source": [
    "# Python Lists: Overview and Functions\n",
    "\n",
    "## Overview\n",
    "Lists in Python are ordered, mutable, and allow duplicate elements. They are one of the most versatile data structures, capable of storing heterogeneous data types (e.g., integers, strings, or even other lists).\n",
    "\n",
    "### Characteristics of Lists\n",
    "1. **Ordered**: Items maintain their order of insertion.\n",
    "2. **Mutable**: Items can be changed.\n",
    "3. **Heterogeneous**: A list can contain items of different data types.\n",
    "\n",
    "### Syntax to Create a List\n",
    "```python\n",
    "my_list = [element1, element2, element3, ...]\n",
    "```\n",
    "\n",
    "---\n",
    "\n",
    "## List Functions and Methods\n",
    "\n",
    "### Basic Operations\n",
    "1. **Accessing Elements**:\n",
    "   ```python\n",
    "   my_list[index]\n",
    "   ```\n",
    "2. **Slicing**:\n",
    "   ```python\n",
    "   my_list[start:end:step]\n",
    "   ```\n",
    "3. **Length of List**:\n",
    "   ```python\n",
    "   len(my_list)\n",
    "   ```\n",
    "\n",
    "### Built-in Functions\n",
    "1. **len(list)**: Returns the number of elements.\n",
    "2. **max(list)**: Returns the largest element.\n",
    "3. **min(list)**: Returns the smallest element.\n",
    "4. **sum(list)**: Returns the sum of all numeric elements.\n",
    "5. **sorted(list)**: Returns a new sorted list.\n",
    "\n",
    "### List Methods\n",
    "1. **append(item)**: Adds an item to the end of the list.\n",
    "   ```python\n",
    "   my_list.append(value)\n",
    "   ```\n",
    "2. **extend(iterable)**: Extends the list with elements from an iterable.\n",
    "   ```python\n",
    "   my_list.extend([1, 2, 3])\n",
    "   ```\n",
    "3. **insert(index, item)**: Inserts an item at a specified index.\n",
    "   ```python\n",
    "   my_list.insert(2, value)\n",
    "   ```\n",
    "4. **remove(item)**: Removes the first occurrence of an item.\n",
    "   ```python\n",
    "   my_list.remove(value)\n",
    "   ```\n",
    "5. **pop(index)**: Removes and returns the item at the given index.\n",
    "   ```python\n",
    "   value = my_list.pop(3)\n",
    "   ```\n",
    "6. **index(item)**: Returns the index of the first occurrence of an item.\n",
    "   ```python\n",
    "   index = my_list.index(value)\n",
    "   ```\n",
    "7. **count(item)**: Counts occurrences of an item.\n",
    "   ```python\n",
    "   count = my_list.count(value)\n",
    "   ```\n",
    "8. **reverse()**: Reverses the order of items in place.\n",
    "   ```python\n",
    "   my_list.reverse()\n",
    "   ```\n",
    "9. **sort()**: Sorts the list in ascending order by default.\n",
    "   ```python\n",
    "   my_list.sort()\n",
    "   ```\n",
    "10. **clear()**: Removes all elements from the list.\n",
    "    ```python\n",
    "    my_list.clear()\n",
    "    ```\n",
    "\n",
    "---\n",
    "\n",
    "## Examples\n",
    "Below are examples demonstrating each list operation and method.\n"
   ]
  },
  {
   "cell_type": "code",
   "execution_count": 7,
   "metadata": {},
   "outputs": [
    {
     "name": "stdout",
     "output_type": "stream",
     "text": [
      "1\n",
      "5\n"
     ]
    }
   ],
   "source": [
    "### Example 1: Creating and Accessing Lists\n",
    "\n",
    "my_list = [1, 2, 3, 4, 5]\n",
    "print(my_list[0])  # Access first element\n",
    "print(my_list[-1]) # Access last element\n",
    "\n",
    "\n"
   ]
  },
  {
   "cell_type": "code",
   "execution_count": 6,
   "metadata": {},
   "outputs": [
    {
     "name": "stdout",
     "output_type": "stream",
     "text": [
      "[20, 30, 40]\n",
      "[10, 20, 30]\n"
     ]
    }
   ],
   "source": [
    "### Example 2: Slicing Lists\n",
    "\n",
    "my_list = [10, 20, 30, 40, 50]\n",
    "print(my_list[1:4])  # Output: [20, 30, 40]\n",
    "print(my_list[:3])   # Output: [10, 20, 30]\n",
    "\n",
    "\n"
   ]
  },
  {
   "cell_type": "code",
   "execution_count": 5,
   "metadata": {},
   "outputs": [
    {
     "name": "stdout",
     "output_type": "stream",
     "text": [
      "[1, 10, 3]\n"
     ]
    }
   ],
   "source": [
    "### Example 3: Modifying Lists\n",
    "\n",
    "my_list = [1, 2, 3]\n",
    "my_list[1] = 10\n",
    "print(my_list)  # Output: [1, 10, 3]\n",
    "\n",
    "\n"
   ]
  },
  {
   "cell_type": "code",
   "execution_count": 4,
   "metadata": {},
   "outputs": [
    {
     "name": "stdout",
     "output_type": "stream",
     "text": [
      "[1, 2, 3, 4]\n",
      "[1, 2, 3, 4, 5, 6]\n",
      "[1, 2, 99, 3, 4, 5, 6]\n",
      "[1, 2, 3, 4, 5, 6]\n",
      "6\n",
      "[1, 2, 3, 4, 5]\n"
     ]
    }
   ],
   "source": [
    "### Example 4: Using List Methods\n",
    "\n",
    "my_list = [1, 2, 3]\n",
    "my_list.append(4)\n",
    "print(my_list)  # Output: [1, 2, 3, 4]\n",
    "\n",
    "my_list.extend([5, 6])\n",
    "print(my_list)  # Output: [1, 2, 3, 4, 5, 6]\n",
    "\n",
    "my_list.insert(2, 99)\n",
    "print(my_list)  # Output: [1, 2, 99, 3, 4, 5, 6]\n",
    "\n",
    "my_list.remove(99)\n",
    "print(my_list)  # Output: [1, 2, 3, 4, 5, 6]\n",
    "\n",
    "popped = my_list.pop()\n",
    "print(popped)   # Output: 6\n",
    "print(my_list)  # Output: [1, 2, 3, 4, 5]\n",
    "\n",
    "\n"
   ]
  },
  {
   "cell_type": "code",
   "execution_count": 3,
   "metadata": {},
   "outputs": [
    {
     "name": "stdout",
     "output_type": "stream",
     "text": [
      "[1, 1, 3, 4, 5, 9]\n",
      "[9, 5, 4, 3, 1, 1]\n"
     ]
    }
   ],
   "source": [
    "### Example 5: Sorting and Reversing\n",
    "\n",
    "my_list = [3, 1, 4, 1, 5, 9]\n",
    "my_list.sort()\n",
    "print(my_list)  # Output: [1, 1, 3, 4, 5, 9]\n",
    "\n",
    "my_list.reverse()\n",
    "print(my_list)  # Output: [9, 5, 4, 3, 1, 1]\n",
    "\n",
    "\n"
   ]
  },
  {
   "cell_type": "code",
   "execution_count": 2,
   "metadata": {},
   "outputs": [
    {
     "name": "stdout",
     "output_type": "stream",
     "text": [
      "5\n",
      "50\n",
      "10\n",
      "150\n"
     ]
    }
   ],
   "source": [
    "### Example 6: Using Built-in Functions\n",
    "\n",
    "my_list = [10, 20, 30, 40, 50]\n",
    "print(len(my_list))  # Output: 5\n",
    "print(max(my_list))  # Output: 50\n",
    "print(min(my_list))  # Output: 10\n",
    "print(sum(my_list))  # Output: 150\n"
   ]
  }
 ],
 "metadata": {
  "kernelspec": {
   "display_name": "Python 3",
   "language": "python",
   "name": "python3"
  },
  "language_info": {
   "codemirror_mode": {
    "name": "ipython",
    "version": 3
   },
   "file_extension": ".py",
   "mimetype": "text/x-python",
   "name": "python",
   "nbconvert_exporter": "python",
   "pygments_lexer": "ipython3",
   "version": "3.13.1"
  }
 },
 "nbformat": 4,
 "nbformat_minor": 2
}
