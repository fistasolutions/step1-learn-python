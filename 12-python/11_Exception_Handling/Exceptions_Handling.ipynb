{
 "cells": [
  {
   "cell_type": "markdown",
   "metadata": {},
   "source": [
    "# Python Exception Handling: Overview and Examples\n",
    "\n",
    "## Overview\n",
    "Exception handling in Python allows developers to handle errors gracefully, preventing abrupt program termination. Python uses `try`, `except`, `else`, and `finally` blocks to manage exceptions.\n",
    "\n",
    "### Key Concepts\n",
    "1. **Exceptions**: Errors detected during execution, e.g., `ZeroDivisionError`, `TypeError`.\n",
    "2. **Handling Exceptions**: Use `try` and `except` blocks to handle errors.\n",
    "3. **Raising Exceptions**: Use `raise` to throw exceptions manually.\n",
    "\n",
    "### Syntax for Exception Handling\n",
    "```python\n",
    "try:\n",
    "    # Code that may raise an exception\n",
    "except ExceptionType:\n",
    "    # Code to handle the exception\n",
    "else:\n",
    "    # Code to execute if no exceptions occur\n",
    "finally:\n",
    "    # Code to execute regardless of exceptions\n",
    "```\n",
    "\n",
    "---\n",
    "\n",
    "## Common Exception Types\n",
    "- **ArithmeticError**: Base class for errors like `ZeroDivisionError`.\n",
    "- **ValueError**: Raised when a function receives an inappropriate value.\n",
    "- **TypeError**: Raised when an operation is performed on an incompatible type.\n",
    "- **KeyError**: Raised when a key is not found in a dictionary.\n",
    "- **IndexError**: Raised when accessing an invalid index in a list or tuple.\n",
    "\n",
    "---\n",
    "\n",
    "## Examples"
   ]
  },
  {
   "cell_type": "code",
   "execution_count": 2,
   "metadata": {},
   "outputs": [
    {
     "name": "stdout",
     "output_type": "stream",
     "text": [
      "Cannot divide by zero!\n"
     ]
    }
   ],
   "source": [
    "### Example 1: Basic Exception Handling\n",
    "\n",
    "try:\n",
    "    result = 10 / 0\n",
    "except ZeroDivisionError:\n",
    "    print(\"Cannot divide by zero!\")"
   ]
  },
  {
   "cell_type": "code",
   "execution_count": 1,
   "metadata": {},
   "outputs": [
    {
     "name": "stdout",
     "output_type": "stream",
     "text": [
      "Invalid value!\n"
     ]
    }
   ],
   "source": [
    "### Example 2: Handling Multiple Exceptions\n",
    "\n",
    "try:\n",
    "    num = int(\"abc\")\n",
    "except ValueError:\n",
    "    print(\"Invalid value!\")\n",
    "except TypeError:\n",
    "    print(\"Type mismatch!\")"
   ]
  },
  {
   "cell_type": "code",
   "execution_count": 3,
   "metadata": {},
   "outputs": [
    {
     "name": "stdout",
     "output_type": "stream",
     "text": [
      "Result is: 5.0\n",
      "Execution completed.\n"
     ]
    }
   ],
   "source": [
    "\n",
    "\n",
    "### Example 3: Using Else and Finally\n",
    "\n",
    "try:\n",
    "    result = 10 / 2\n",
    "except ZeroDivisionError:\n",
    "    print(\"Cannot divide by zero!\")\n",
    "else:\n",
    "    print(\"Result is:\", result)\n",
    "finally:\n",
    "    print(\"Execution completed.\")"
   ]
  },
  {
   "cell_type": "code",
   "execution_count": 4,
   "metadata": {},
   "outputs": [
    {
     "name": "stdout",
     "output_type": "stream",
     "text": [
      "Age cannot be negative!\n"
     ]
    }
   ],
   "source": [
    "### Example 4: Raising Exceptions\n",
    "\n",
    "def check_age(age):\n",
    "    if age < 0:\n",
    "        raise ValueError(\"Age cannot be negative!\")\n",
    "    return \"Valid age\"\n",
    "\n",
    "try:\n",
    "    print(check_age(-5))\n",
    "except ValueError as e:\n",
    "    print(e)\n",
    "\n",
    "\n"
   ]
  },
  {
   "cell_type": "code",
   "execution_count": 5,
   "metadata": {},
   "outputs": [
    {
     "name": "stdout",
     "output_type": "stream",
     "text": [
      "This is a custom error!\n"
     ]
    }
   ],
   "source": [
    "### Example 5: Custom Exceptions\n",
    "\n",
    "class CustomError(Exception):\n",
    "    pass\n",
    "\n",
    "try:\n",
    "    raise CustomError(\"This is a custom error!\")\n",
    "except CustomError as e:\n",
    "    print(e)\n"
   ]
  }
 ],
 "metadata": {
  "kernelspec": {
   "display_name": "Python 3",
   "language": "python",
   "name": "python3"
  },
  "language_info": {
   "codemirror_mode": {
    "name": "ipython",
    "version": 3
   },
   "file_extension": ".py",
   "mimetype": "text/x-python",
   "name": "python",
   "nbconvert_exporter": "python",
   "pygments_lexer": "ipython3",
   "version": "3.13.1"
  }
 },
 "nbformat": 4,
 "nbformat_minor": 2
}
