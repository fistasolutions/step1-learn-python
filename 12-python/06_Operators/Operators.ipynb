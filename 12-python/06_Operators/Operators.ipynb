{
 "cells": [
  {
   "cell_type": "markdown",
   "id": "2beff2e8",
   "metadata": {},
   "source": [
    "# Detailed Explanation of Python Operators  \n",
    "\n",
    "## 1. Overview  \n",
    "Operators in Python are symbols or keywords used to perform operations on variables and values. Python supports several types of operators."
   ]
  },
  {
   "cell_type": "markdown",
   "id": "4f25ffad",
   "metadata": {},
   "source": [
    "---\n",
    "\n",
    "## 2. Types of Operators  \n",
    "\n",
    "### **1. Arithmetic Operators**  \n",
    "- Used to perform mathematical operations.  \n",
    "\n",
    "| Operator | Description           | Example         |\n",
    "|----------|-----------------------|-----------------|\n",
    "| `+`      | Addition              | `a + b`         |\n",
    "| `-`      | Subtraction           | `a - b`         |\n",
    "| `*`      | Multiplication        | `a * b`         |\n",
    "| `/`      | Division              | `a / b`         |\n",
    "| `%`      | Modulus               | `a % b`         |\n",
    "| `**`     | Exponentiation        | `a ** b`        |\n",
    "| `//`     | Floor Division        | `a // b`        |"
   ]
  },
  {
   "cell_type": "markdown",
   "id": "9fce9462",
   "metadata": {},
   "source": [
    "---\n",
    "\n",
    "### **2. Comparison Operators**  \n",
    "- Used to compare two values and return a Boolean result.  \n",
    "\n",
    "| Operator | Description           | Example         |\n",
    "|----------|-----------------------|-----------------|\n",
    "| `==`     | Equal to              | `a == b`        |\n",
    "| `!=`     | Not equal to          | `a != b`        |\n",
    "| `>`      | Greater than          | `a > b`         |\n",
    "| `<`      | Less than             | `a < b`         |\n",
    "| `>=`     | Greater than or equal | `a >= b`        |\n",
    "| `<=`     | Less than or equal    | `a <= b`        |"
   ]
  },
  {
   "cell_type": "markdown",
   "id": "bd9f1048",
   "metadata": {},
   "source": [
    "---\n",
    "\n",
    "### **3. Logical Operators**  \n",
    "- Used to combine conditional statements.  \n",
    "\n",
    "| Operator | Description | Example            |\n",
    "|----------|-------------|--------------------|\n",
    "| `and`    | Logical AND | `a > b and a > c`  |\n",
    "| `or`     | Logical OR  | `a > b or a > c`   |\n",
    "| `not`    | Logical NOT | `not(a > b)`       |"
   ]
  },
  {
   "cell_type": "markdown",
   "id": "1a691e20",
   "metadata": {},
   "source": [
    "---\n",
    "\n",
    "### **4. Assignment Operators**  \n",
    "- Used to assign values to variables.  \n",
    "\n",
    "| Operator | Description           | Example    |\n",
    "|----------|-----------------------|------------|\n",
    "| `=`      | Assign value          | `a = 5`    |\n",
    "| `+=`     | Add and assign         | `a += 5`   |\n",
    "| `-=`     | Subtract and assign    | `a -= 5`   |\n",
    "| `*=`     | Multiply and assign    | `a *= 5`   |\n",
    "| `/=`     | Divide and assign      | `a /= 5`   |\n",
    "| `%=`     | Modulus and assign     | `a %= 5`   |\n",
    "| `//=`    | Floor divide and assign| `a //= 5`  |\n",
    "| `**=`    | Exponent and assign    | `a **= 5`  |"
   ]
  },
  {
   "cell_type": "markdown",
   "id": "ff065c42",
   "metadata": {},
   "source": [
    "---\n",
    "\n",
    "### **5. Bitwise Operators**  \n",
    "- Used to perform bit-level operations.  \n",
    "\n",
    "| Operator | Description             | Example |\n",
    "|----------|-------------------------|---------|\n",
    "| `&`      | Bitwise AND             | `a & b` |\n",
    "| `|`      | Bitwise OR              | `a | b` |\n",
    "| `^`      | Bitwise XOR             | `a ^ b` |\n",
    "| `~`      | Bitwise NOT             | `~a`    |\n",
    "| `<<`     | Left shift              | `a << b`|\n",
    "| `>>`     | Right shift             | `a >> b`|"
   ]
  },
  {
   "cell_type": "markdown",
   "id": "cc10b532",
   "metadata": {},
   "source": [
    "---\n",
    "\n",
    "## 3. Examples and Use Cases  \n",
    "\n",
    "### Example 1: Arithmetic Operators"
   ]
  },
  {
   "cell_type": "markdown",
   "id": "f4ae43b1",
   "metadata": {},
   "source": [
    "### Example 2: Comparison Operators"
   ]
  },
  {
   "cell_type": "markdown",
   "id": "9205e052",
   "metadata": {},
   "source": [
    "### Example 3: Logical Operators"
   ]
  },
  {
   "cell_type": "markdown",
   "id": "9e69f33d",
   "metadata": {},
   "source": [
    "### Example 4: Assignment Operators"
   ]
  },
  {
   "cell_type": "markdown",
   "id": "4fd358e7",
   "metadata": {},
   "source": [
    "### Example 5: Bitwise Operators"
   ]
  },
  {
   "cell_type": "markdown",
   "id": "e69c4b33",
   "metadata": {},
   "source": [
    "---\n",
    "\n",
    "## 4. Conclusion  \n",
    "Understanding Python operators is crucial for writing efficient and effective Python programs. Operators provide a foundation for working with data and building logical expressions."
   ]
  },
  {
   "cell_type": "code",
   "execution_count": 1,
   "id": "5dcbbd2d",
   "metadata": {},
   "outputs": [
    {
     "name": "stdout",
     "output_type": "stream",
     "text": [
      "Addition: 13\n",
      "Subtraction: 7\n",
      "Multiplication: 30\n",
      "Division: 3.3333333333333335\n",
      "Modulus: 1\n",
      "Exponentiation: 1000\n",
      "Floor Division: 3\n"
     ]
    }
   ],
   "source": [
    "# Example 1: Arithmetic Operators\n",
    "a, b = 10, 3\n",
    "print(f\"Addition: {a + b}\")\n",
    "print(f\"Subtraction: {a - b}\")\n",
    "print(f\"Multiplication: {a * b}\")\n",
    "print(f\"Division: {a / b}\")\n",
    "print(f\"Modulus: {a % b}\")\n",
    "print(f\"Exponentiation: {a ** b}\")\n",
    "print(f\"Floor Division: {a // b}\")"
   ]
  },
  {
   "cell_type": "code",
   "execution_count": 2,
   "id": "820bdfdb",
   "metadata": {},
   "outputs": [
    {
     "name": "stdout",
     "output_type": "stream",
     "text": [
      "Equal: False\n",
      "Not Equal: True\n",
      "Greater Than: True\n",
      "Less Than: False\n",
      "Greater or Equal: True\n",
      "Less or Equal: False\n"
     ]
    }
   ],
   "source": [
    "# Example 2: Comparison Operators\n",
    "a, b = 10, 3\n",
    "print(f\"Equal: {a == b}\")\n",
    "print(f\"Not Equal: {a != b}\")\n",
    "print(f\"Greater Than: {a > b}\")\n",
    "print(f\"Less Than: {a < b}\")\n",
    "print(f\"Greater or Equal: {a >= b}\")\n",
    "print(f\"Less or Equal: {a <= b}\")"
   ]
  },
  {
   "cell_type": "code",
   "execution_count": 3,
   "id": "6f42a1ff",
   "metadata": {},
   "outputs": [
    {
     "name": "stdout",
     "output_type": "stream",
     "text": [
      "Logical AND: True\n",
      "Logical OR: True\n",
      "Logical NOT: False\n"
     ]
    }
   ],
   "source": [
    "# Example 3: Logical Operators\n",
    "x, y, z = True, False, True\n",
    "print(f\"Logical AND: {x and z}\")\n",
    "print(f\"Logical OR: {x or y}\")\n",
    "print(f\"Logical NOT: {not x}\")"
   ]
  },
  {
   "cell_type": "code",
   "execution_count": 4,
   "id": "dc3c9a33",
   "metadata": {},
   "outputs": [
    {
     "name": "stdout",
     "output_type": "stream",
     "text": [
      "a += 2: 7\n",
      "a *= 3: 21\n"
     ]
    }
   ],
   "source": [
    "# Example 4: Assignment Operators\n",
    "a = 5\n",
    "a += 2\n",
    "print(f\"a += 2: {a}\")\n",
    "a *= 3\n",
    "print(f\"a *= 3: {a}\")"
   ]
  },
  {
   "cell_type": "code",
   "execution_count": 5,
   "id": "1013bf03",
   "metadata": {},
   "outputs": [
    {
     "name": "stdout",
     "output_type": "stream",
     "text": [
      "Bitwise AND: 2\n",
      "Bitwise OR: 7\n",
      "Bitwise XOR: 5\n",
      "Bitwise NOT: -7\n",
      "Left Shift: 12\n",
      "Right Shift: 3\n"
     ]
    }
   ],
   "source": [
    "# Example 5: Bitwise Operators\n",
    "a, b = 6, 3  # 6 = 110 in binary, 3 = 011 in binary\n",
    "print(f\"Bitwise AND: {a & b}\")\n",
    "print(f\"Bitwise OR: {a | b}\")\n",
    "print(f\"Bitwise XOR: {a ^ b}\")\n",
    "print(f\"Bitwise NOT: {~a}\")\n",
    "print(f\"Left Shift: {a << 1}\")\n",
    "print(f\"Right Shift: {a >> 1}\")"
   ]
  }
 ],
 "metadata": {
  "kernelspec": {
   "display_name": "Python 3",
   "language": "python",
   "name": "python3"
  },
  "language_info": {
   "codemirror_mode": {
    "name": "ipython",
    "version": 3
   },
   "file_extension": ".py",
   "mimetype": "text/x-python",
   "name": "python",
   "nbconvert_exporter": "python",
   "pygments_lexer": "ipython3",
   "version": "3.13.1"
  }
 },
 "nbformat": 4,
 "nbformat_minor": 5
}
