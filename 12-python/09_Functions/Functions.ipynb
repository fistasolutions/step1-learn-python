{
 "cells": [
  {
   "cell_type": "markdown",
   "metadata": {},
   "source": [
    "# Functions in Python\n",
    "\n",
    "## Introduction\n",
    "Functions are blocks of reusable code that perform a specific task. They help in organizing code, making it more readable, and avoiding redundancy.\n",
    "\n",
    "---\n",
    "\n",
    "## Defining a Function\n",
    "To define a function, use the `def` keyword followed by the function name and parentheses.\n",
    "\n",
    "### Syntax:\n",
    "```python\n",
    "def function_name(parameters):\n",
    "    \"\"\"Docstring (optional): Describe the function.\"\"\"\n",
    "    # Code block\n",
    "    return result\n",
    "```\n",
    "\n",
    "---\n",
    "\n",
    "## Examples\n",
    "\n",
    "### 1. Simple Function Without Parameters\n",
    "```python\n",
    "def greet():\n",
    "    print(\"Hello, World!\")\n",
    "\n",
    "greet()\n",
    "```\n",
    "**Output:**\n",
    "```\n",
    "Hello, World!\n",
    "```\n",
    "\n",
    "### 2. Function With Parameters\n",
    "```python\n",
    "def greet_person(name):\n",
    "    print(f\"Hello, {name}!\")\n",
    "\n",
    "greet_person(\"Alice\")\n",
    "```\n",
    "**Output:**\n",
    "```\n",
    "Hello, Alice!\n",
    "```\n",
    "\n",
    "### 3. Function With Return Value\n",
    "```python\n",
    "def add(a, b):\n",
    "    return a + b\n",
    "\n",
    "result = add(5, 3)\n",
    "print(result)\n",
    "```\n",
    "**Output:**\n",
    "```\n",
    "8\n",
    "```\n",
    "\n",
    "---\n",
    "\n",
    "## Default Arguments\n",
    "You can specify default values for parameters.\n",
    "\n",
    "### Example:\n",
    "```python\n",
    "def greet(name=\"Guest\"):\n",
    "    print(f\"Hello, {name}!\")\n",
    "\n",
    "greet()\n",
    "greet(\"Bob\")\n",
    "```\n",
    "**Output:**\n",
    "```\n",
    "Hello, Guest!\n",
    "Hello, Bob!\n",
    "```\n",
    "\n",
    "---\n",
    "\n",
    "## Keyword Arguments\n",
    "Arguments can be passed using parameter names.\n",
    "\n",
    "### Example:\n",
    "```python\n",
    "def describe_person(name, age):\n",
    "    print(f\"{name} is {age} years old.\")\n",
    "\n",
    "describe_person(age=30, name=\"Alice\")\n",
    "```\n",
    "**Output:**\n",
    "```\n",
    "Alice is 30 years old.\n",
    "```\n",
    "\n",
    "---\n",
    "\n",
    "## Variable-Length Arguments\n",
    "Use `*args` for positional arguments and `**kwargs` for keyword arguments when the number of arguments is unknown.\n",
    "\n",
    "### Example:\n",
    "```python\n",
    "def sum_all(*numbers):\n",
    "    return sum(numbers)\n",
    "\n",
    "print(sum_all(1, 2, 3, 4))\n",
    "\n",
    "\n",
    "def print_info(**info):\n",
    "    for key, value in info.items():\n",
    "        print(f\"{key}: {value}\")\n",
    "\n",
    "print_info(name=\"Alice\", age=30, city=\"New York\")\n",
    "```\n",
    "**Output:**\n",
    "```\n",
    "10\n",
    "name: Alice\n",
    "age: 30\n",
    "city: New York\n",
    "```\n",
    "\n",
    "---\n",
    "\n",
    "## Anonymous Functions (Lambda)\n",
    "Use `lambda` to create small, anonymous functions.\n",
    "\n",
    "### Example:\n",
    "```python\n",
    "square = lambda x: x * x\n",
    "print(square(5))\n",
    "```\n",
    "**Output:**\n",
    "```\n",
    "25\n",
    "```\n",
    "\n",
    "---\n",
    "\n",
    "## Nested Functions\n",
    "Functions can be defined within other functions.\n",
    "\n",
    "### Example:\n",
    "```python\n",
    "def outer_function():\n",
    "    def inner_function():\n",
    "        print(\"This is the inner function.\")\n",
    "    inner_function()\n",
    "\n",
    "outer_function()\n",
    "```\n",
    "**Output:**\n",
    "```\n",
    "This is the inner function.\n",
    "```\n",
    "\n",
    "---\n",
    "\n",
    "## Scope of Variables\n",
    "Variables can have local or global scope.\n",
    "\n",
    "### Example:\n",
    "```python\n",
    "def demo_scope():\n",
    "    local_var = \"I am local\"\n",
    "    print(local_var)\n",
    "\n",
    "global_var = \"I am global\"\n",
    "\n",
    "demo_scope()\n",
    "print(global_var)\n",
    "```\n",
    "**Output:**\n",
    "```\n",
    "I am local\n",
    "I am global\n",
    "```\n",
    "\n",
    "---\n",
    "\n",
    "# Python Code Examples"
   ]
  },
  {
   "cell_type": "code",
   "execution_count": 8,
   "metadata": {},
   "outputs": [
    {
     "name": "stdout",
     "output_type": "stream",
     "text": [
      "Hello, World!\n"
     ]
    }
   ],
   "source": [
    "# Example 1: Simple Function Without Parameters\n",
    "def greet():\n",
    "    print(\"Hello, World!\")\n",
    "\n",
    "greet()"
   ]
  },
  {
   "cell_type": "code",
   "execution_count": 7,
   "metadata": {},
   "outputs": [
    {
     "name": "stdout",
     "output_type": "stream",
     "text": [
      "Hello, Alice!\n"
     ]
    }
   ],
   "source": [
    "# Example 2: Function With Parameters\n",
    "def greet_person(name):\n",
    "    print(f\"Hello, {name}!\")\n",
    "\n",
    "greet_person(\"Alice\")"
   ]
  },
  {
   "cell_type": "code",
   "execution_count": 6,
   "metadata": {},
   "outputs": [
    {
     "name": "stdout",
     "output_type": "stream",
     "text": [
      "8\n"
     ]
    }
   ],
   "source": [
    "# Example 3: Function With Return Value\n",
    "def add(a, b):\n",
    "    return a + b\n",
    "\n",
    "result = add(5, 3)\n",
    "print(result)\n",
    "\n"
   ]
  },
  {
   "cell_type": "code",
   "execution_count": 5,
   "metadata": {},
   "outputs": [
    {
     "name": "stdout",
     "output_type": "stream",
     "text": [
      "Hello, Guest!\n",
      "Hello, Bob!\n"
     ]
    }
   ],
   "source": [
    "# Example 4: Default Arguments\n",
    "def greet(name=\"Guest\"):\n",
    "    print(f\"Hello, {name}!\")\n",
    "\n",
    "greet()\n",
    "greet(\"Bob\")\n",
    "\n"
   ]
  },
  {
   "cell_type": "code",
   "execution_count": 4,
   "metadata": {},
   "outputs": [
    {
     "name": "stdout",
     "output_type": "stream",
     "text": [
      "Alice is 30 years old.\n"
     ]
    }
   ],
   "source": [
    "# Example 5: Keyword Arguments\n",
    "def describe_person(name, age):\n",
    "    print(f\"{name} is {age} years old.\")\n",
    "\n",
    "describe_person(age=30, name=\"Alice\")\n",
    "\n"
   ]
  },
  {
   "cell_type": "code",
   "execution_count": 3,
   "metadata": {},
   "outputs": [
    {
     "name": "stdout",
     "output_type": "stream",
     "text": [
      "10\n",
      "name: Alice\n",
      "age: 30\n",
      "city: New York\n"
     ]
    }
   ],
   "source": [
    "# Example 6: Variable-Length Arguments\n",
    "def sum_all(*numbers):\n",
    "    return sum(numbers)\n",
    "\n",
    "print(sum_all(1, 2, 3, 4))\n",
    "\n",
    "def print_info(**info):\n",
    "    for key, value in info.items():\n",
    "        print(f\"{key}: {value}\")\n",
    "\n",
    "print_info(name=\"Alice\", age=30, city=\"New York\")"
   ]
  },
  {
   "cell_type": "code",
   "execution_count": 2,
   "metadata": {},
   "outputs": [
    {
     "name": "stdout",
     "output_type": "stream",
     "text": [
      "25\n"
     ]
    }
   ],
   "source": [
    "# Example 7: Anonymous Functions (Lambda)\n",
    "square = lambda x: x * x\n",
    "print(square(5))"
   ]
  },
  {
   "cell_type": "code",
   "execution_count": 1,
   "metadata": {},
   "outputs": [
    {
     "name": "stdout",
     "output_type": "stream",
     "text": [
      "This is the inner function.\n"
     ]
    }
   ],
   "source": [
    "# Example 8: Nested Functions\n",
    "def outer_function():\n",
    "    def inner_function():\n",
    "        print(\"This is the inner function.\")\n",
    "    inner_function()\n",
    "\n",
    "outer_function()\n",
    "\n"
   ]
  },
  {
   "cell_type": "code",
   "execution_count": null,
   "metadata": {},
   "outputs": [],
   "source": [
    "# Example 9: Scope of Variables\n",
    "def demo_scope():\n",
    "    local_var = \"I am local\"\n",
    "    print(local_var)\n",
    "\n",
    "global_var = \"I am global\"\n",
    "\n",
    "demo_scope()\n",
    "print(global_var)"
   ]
  }
 ],
 "metadata": {
  "kernelspec": {
   "display_name": "Python 3",
   "language": "python",
   "name": "python3"
  },
  "language_info": {
   "codemirror_mode": {
    "name": "ipython",
    "version": 3
   },
   "file_extension": ".py",
   "mimetype": "text/x-python",
   "name": "python",
   "nbconvert_exporter": "python",
   "pygments_lexer": "ipython3",
   "version": "3.13.1"
  }
 },
 "nbformat": 4,
 "nbformat_minor": 2
}
