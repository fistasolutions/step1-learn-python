{
 "cells": [
  {
   "cell_type": "markdown",
   "metadata": {},
   "source": [
    "# Pandas: Overview and Examples\n",
    "\n",
    "`pandas` is a Python library used for data manipulation, analysis, and visualization. It provides powerful data structures like `DataFrame` and `Series`.\n",
    "\n",
    "## Key Features\n",
    "- Data alignment and handling of missing data.\n",
    "- Label-based slicing, indexing, and subsetting.\n",
    "- File I/O (CSV, Excel, JSON, etc.).\n",
    "- Data wrangling and analysis tools.\n"
   ]
  },
  {
   "cell_type": "markdown",
   "metadata": {},
   "source": [
    "## Creating Data Structures\n",
    "\n",
    "### Series\n",
    "A one-dimensional array-like object with labeled indices.\n",
    "\n",
    "### DataFrame\n",
    "A two-dimensional tabular structure with labeled rows and columns.\n"
   ]
  },
  {
   "cell_type": "code",
   "execution_count": 3,
   "metadata": {},
   "outputs": [
    {
     "name": "stdout",
     "output_type": "stream",
     "text": [
      "Requirement already satisfied: pandas in /opt/anaconda3/lib/python3.12/site-packages (2.2.2)\n",
      "\u001b[31mERROR: Could not find a version that satisfies the requirement as (from versions: none)\u001b[0m\u001b[31m\n",
      "\u001b[0m\u001b[31mERROR: No matching distribution found for as\u001b[0m\u001b[31m\n",
      "\u001b[0mRequirement already satisfied: numpy in /opt/anaconda3/lib/python3.12/site-packages (1.26.4)\n",
      "\u001b[31mERROR: Could not find a version that satisfies the requirement as (from versions: none)\u001b[0m\u001b[31m\n",
      "\u001b[0m\u001b[31mERROR: No matching distribution found for as\u001b[0m\u001b[31m\n",
      "\u001b[0m"
     ]
    },
    {
     "ename": "NameError",
     "evalue": "name 'pd' is not defined",
     "output_type": "error",
     "traceback": [
      "\u001b[0;31m---------------------------------------------------------------------------\u001b[0m",
      "\u001b[0;31mNameError\u001b[0m                                 Traceback (most recent call last)",
      "Cell \u001b[0;32mIn[3], line 6\u001b[0m\n\u001b[1;32m      4\u001b[0m \u001b[38;5;66;03m# Creating a Series\u001b[39;00m\n\u001b[1;32m      5\u001b[0m data \u001b[38;5;241m=\u001b[39m [\u001b[38;5;241m10\u001b[39m, \u001b[38;5;241m20\u001b[39m, \u001b[38;5;241m30\u001b[39m, \u001b[38;5;241m40\u001b[39m]\n\u001b[0;32m----> 6\u001b[0m series \u001b[38;5;241m=\u001b[39m \u001b[43mpd\u001b[49m\u001b[38;5;241m.\u001b[39mSeries(data, index\u001b[38;5;241m=\u001b[39m[\u001b[38;5;124m'\u001b[39m\u001b[38;5;124ma\u001b[39m\u001b[38;5;124m'\u001b[39m, \u001b[38;5;124m'\u001b[39m\u001b[38;5;124mb\u001b[39m\u001b[38;5;124m'\u001b[39m, \u001b[38;5;124m'\u001b[39m\u001b[38;5;124mc\u001b[39m\u001b[38;5;124m'\u001b[39m, \u001b[38;5;124m'\u001b[39m\u001b[38;5;124md\u001b[39m\u001b[38;5;124m'\u001b[39m])\n\u001b[1;32m      7\u001b[0m \u001b[38;5;28mprint\u001b[39m(\u001b[38;5;124m\"\u001b[39m\u001b[38;5;124mSeries:\u001b[39m\u001b[38;5;130;01m\\n\u001b[39;00m\u001b[38;5;124m\"\u001b[39m, series)\n\u001b[1;32m      9\u001b[0m \u001b[38;5;66;03m# Creating a DataFrame\u001b[39;00m\n",
      "\u001b[0;31mNameError\u001b[0m: name 'pd' is not defined"
     ]
    }
   ],
   "source": [
    "!pip install pandas as pd\n",
    "!pip install numpy as np\n",
    "\n",
    "# Creating a Series\n",
    "data = [10, 20, 30, 40]\n",
    "series = pd.Series(data, index=['a', 'b', 'c', 'd'])\n",
    "print(\"Series:\\n\", series)\n",
    "\n",
    "# Creating a DataFrame\n",
    "data = {\n",
    "    'Name': ['Alice', 'Bob', 'Charlie'],\n",
    "    'Age': [25, 30, 35],\n",
    "    'Salary': [50000, 60000, 70000]\n",
    "}\n",
    "df = pd.DataFrame(data)\n",
    "print(\"\\nDataFrame:\\n\", df)\n"
   ]
  },
  {
   "cell_type": "markdown",
   "metadata": {},
   "source": [
    "## Basic Operations\n",
    "\n",
    "### Accessing Columns\n",
    "Columns can be accessed like dictionaries or attributes.\n",
    "\n",
    "### Adding/Removing Columns\n",
    "Add new columns or remove existing ones dynamically.\n",
    "\n",
    "### Accessing Rows\n",
    "Use `.iloc` for positional indexing and `.loc` for label-based indexing.\n"
   ]
  },
  {
   "cell_type": "code",
   "execution_count": null,
   "metadata": {},
   "outputs": [],
   "source": []
  },
  {
   "cell_type": "code",
   "execution_count": null,
   "metadata": {},
   "outputs": [],
   "source": [
    "# Accessing a column\n",
    "print(\"Accessing 'Name' column:\\n\", df['Name'])\n",
    "\n",
    "# Adding a new column\n",
    "df['Bonus'] = df['Salary'] * 0.1\n",
    "print(\"\\nDataFrame with 'Bonus':\\n\", df)\n",
    "\n",
    "# Removing a column\n",
    "df = df.drop('Bonus', axis=1)\n",
    "print(\"\\nDataFrame after dropping 'Bonus':\\n\", df)\n",
    "\n",
    "# Accessing rows\n",
    "df.index = ['Emp1', 'Emp2', 'Emp3']\n",
    "print(\"\\nAccessing first row (positional):\\n\", df.iloc[0])\n",
    "print(\"\\nAccessing first row (label-based):\\n\", df.loc['Emp1'])\n"
   ]
  },
  {
   "cell_type": "markdown",
   "metadata": {},
   "source": [
    "## File Operations\n",
    "\n",
    "### CSV and Excel\n",
    "Pandas allows seamless reading and writing of files.\n"
   ]
  },
  {
   "cell_type": "code",
   "execution_count": null,
   "metadata": {},
   "outputs": [],
   "source": [
    "# Writing to a CSV file\n",
    "df.to_csv('output.csv', index=False)\n",
    "print(\"DataFrame written to 'output.csv'.\")\n",
    "\n",
    "# Reading from a CSV file\n",
    "df_from_csv = pd.read_csv('output.csv')\n",
    "print(\"\\nDataFrame read from CSV:\\n\", df_from_csv)\n",
    "\n",
    "# Writing to an Excel file\n",
    "df.to_excel('output.xlsx', index=False)\n",
    "print(\"DataFrame written to 'output.xlsx'.\")\n",
    "\n",
    "# Reading from an Excel file\n",
    "df_from_excel = pd.read_excel('output.xlsx')\n",
    "print(\"\\nDataFrame read from Excel:\\n\", df_from_excel)\n"
   ]
  },
  {
   "cell_type": "markdown",
   "metadata": {},
   "source": [
    "## Data Manipulation\n",
    "\n",
    "### Handling Missing Data\n",
    "Handle missing values by filling or dropping them.\n",
    "\n",
    "### Filtering and Sorting\n",
    "Filter rows based on conditions and sort by columns.\n"
   ]
  },
  {
   "cell_type": "code",
   "execution_count": null,
   "metadata": {},
   "outputs": [],
   "source": [
    "# Adding a NaN value\n",
    "df.loc[1, 'Salary'] = np.nan\n",
    "print(\"\\nDataFrame with NaN:\\n\", df)\n",
    "\n",
    "# Filling missing values\n",
    "df['Salary'] = df['Salary'].fillna(df['Salary'].mean())\n",
    "print(\"\\nDataFrame after filling NaN:\\n\", df)\n",
    "\n",
    "# Filtering rows\n",
    "filtered_df = df[df['Age'] > 30]\n",
    "print(\"\\nFiltered DataFrame (Age > 30):\\n\", filtered_df)\n",
    "\n",
    "# Sorting rows\n",
    "sorted_df = df.sort_values(by='Age', ascending=False)\n",
    "print(\"\\nDataFrame sorted by Age:\\n\", sorted_df)\n"
   ]
  },
  {
   "cell_type": "markdown",
   "metadata": {},
   "source": [
    "## Grouping and Aggregation\n",
    "\n",
    "### Grouping Data\n",
    "Group by a column to analyze subsets of data.\n",
    "\n",
    "### Aggregation\n",
    "Apply aggregation functions like `mean` or `sum`.\n"
   ]
  },
  {
   "cell_type": "code",
   "execution_count": null,
   "metadata": {},
   "outputs": [],
   "source": [
    "# Grouping data\n",
    "grouped = df.groupby('Age')\n",
    "for age, group in grouped:\n",
    "    print(f\"\\nGroup for Age {age}:\\n\", group)\n",
    "\n",
    "# Aggregation\n",
    "print(\"\\nAverage Salary by Age:\\n\", df.groupby('Age')['Salary'].mean())\n",
    "print(\"\\nTotal Salary by Age:\\n\", df.groupby('Age')['Salary'].sum())\n"
   ]
  },
  {
   "cell_type": "markdown",
   "metadata": {},
   "source": [
    "## Merging and Joining\n",
    "\n",
    "### Merge\n",
    "Combine datasets with a common key.\n",
    "\n",
    "### Join\n",
    "Combine datasets on their indices.\n"
   ]
  },
  {
   "cell_type": "code",
   "execution_count": null,
   "metadata": {},
   "outputs": [],
   "source": [
    "df1 = pd.DataFrame({'ID': [1, 2], 'Name': ['Alice', 'Bob']})\n",
    "df2 = pd.DataFrame({'ID': [1, 2], 'Salary': [50000, 60000]})\n",
    "\n",
    "# Merging\n",
    "merged_df = pd.merge(df1, df2, on='ID')\n",
    "print(\"\\nMerged DataFrame:\\n\", merged_df)\n",
    "\n",
    "# Joining\n",
    "left = pd.DataFrame({'A': [1, 2], 'B': [3, 4]}, index=['a', 'b'])\n",
    "right = pd.DataFrame({'C': [5, 6]}, index=['a', 'b'])\n",
    "joined_df = left.join(right)\n",
    "print(\"\\nJoined DataFrame:\\n\", joined_df)\n"
   ]
  },
  {
   "cell_type": "markdown",
   "metadata": {},
   "source": [
    "## Visualization\n",
    "\n",
    "### Plotting\n",
    "Visualize data using pandas' built-in plotting.\n"
   ]
  },
  {
   "cell_type": "code",
   "execution_count": null,
   "metadata": {},
   "outputs": [],
   "source": [
    "import matplotlib.pyplot as plt\n",
    "\n",
    "# Bar chart\n",
    "df['Salary'].plot(kind='bar', title='Salary Distribution')\n",
    "plt.show()\n",
    "\n",
    "# Line chart\n",
    "df['Age'].plot(kind='line', title='Age Distribution')\n",
    "plt.show()\n"
   ]
  }
 ],
 "metadata": {
  "kernelspec": {
   "display_name": "Python 3",
   "language": "python",
   "name": "python3"
  },
  "language_info": {
   "codemirror_mode": {
    "name": "ipython",
    "version": 3
   },
   "file_extension": ".py",
   "mimetype": "text/x-python",
   "name": "python",
   "nbconvert_exporter": "python",
   "pygments_lexer": "ipython3",
   "version": "3.13.1"
  }
 },
 "nbformat": 4,
 "nbformat_minor": 2
}
